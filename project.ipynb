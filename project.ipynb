{
 "cells": [
  {
   "cell_type": "code",
   "execution_count": 156,
   "metadata": {},
   "outputs": [],
   "source": [
    "import pandas as pd\n"
   ]
  },
  {
   "cell_type": "code",
   "execution_count": null,
   "metadata": {},
   "outputs": [],
   "source": []
  },
  {
   "cell_type": "code",
   "execution_count": 157,
   "metadata": {},
   "outputs": [
    {
     "data": {
      "text/html": [
       "<div>\n",
       "<style scoped>\n",
       "    .dataframe tbody tr th:only-of-type {\n",
       "        vertical-align: middle;\n",
       "    }\n",
       "\n",
       "    .dataframe tbody tr th {\n",
       "        vertical-align: top;\n",
       "    }\n",
       "\n",
       "    .dataframe thead th {\n",
       "        text-align: right;\n",
       "    }\n",
       "</style>\n",
       "<table border=\"1\" class=\"dataframe\">\n",
       "  <thead>\n",
       "    <tr style=\"text-align: right;\">\n",
       "      <th></th>\n",
       "      <th>days_to_bcr</th>\n",
       "      <th>bcr_status</th>\n",
       "    </tr>\n",
       "  </thead>\n",
       "  <tbody>\n",
       "    <tr>\n",
       "      <th>TCGA-2A-A8W3-01</th>\n",
       "      <td>0.108493</td>\n",
       "      <td>0</td>\n",
       "    </tr>\n",
       "    <tr>\n",
       "      <th>TCGA-CH-5788-01</th>\n",
       "      <td>0.430685</td>\n",
       "      <td>0</td>\n",
       "    </tr>\n",
       "    <tr>\n",
       "      <th>TCGA-EJ-5504-01</th>\n",
       "      <td>0.042192</td>\n",
       "      <td>0</td>\n",
       "    </tr>\n",
       "    <tr>\n",
       "      <th>TCGA-EJ-5508-01</th>\n",
       "      <td>1.000000</td>\n",
       "      <td>1</td>\n",
       "    </tr>\n",
       "    <tr>\n",
       "      <th>TCGA-EJ-5510-01</th>\n",
       "      <td>1.000000</td>\n",
       "      <td>1</td>\n",
       "    </tr>\n",
       "  </tbody>\n",
       "</table>\n",
       "</div>"
      ],
      "text/plain": [
       "                 days_to_bcr  bcr_status\n",
       "TCGA-2A-A8W3-01     0.108493           0\n",
       "TCGA-CH-5788-01     0.430685           0\n",
       "TCGA-EJ-5504-01     0.042192           0\n",
       "TCGA-EJ-5508-01     1.000000           1\n",
       "TCGA-EJ-5510-01     1.000000           1"
      ]
     },
     "execution_count": 157,
     "metadata": {},
     "output_type": "execute_result"
    }
   ],
   "source": [
    "phe = pd.read_csv('phe153.csv', index_col=0)\n",
    "phe.head()"
   ]
  },
  {
   "cell_type": "code",
   "execution_count": null,
   "metadata": {},
   "outputs": [],
   "source": []
  },
  {
   "cell_type": "code",
   "execution_count": 158,
   "metadata": {},
   "outputs": [
    {
     "data": {
      "text/html": [
       "<div>\n",
       "<style scoped>\n",
       "    .dataframe tbody tr th:only-of-type {\n",
       "        vertical-align: middle;\n",
       "    }\n",
       "\n",
       "    .dataframe tbody tr th {\n",
       "        vertical-align: top;\n",
       "    }\n",
       "\n",
       "    .dataframe thead th {\n",
       "        text-align: right;\n",
       "    }\n",
       "</style>\n",
       "<table border=\"1\" class=\"dataframe\">\n",
       "  <thead>\n",
       "    <tr style=\"text-align: right;\">\n",
       "      <th></th>\n",
       "      <th>ENSG00000000003</th>\n",
       "      <th>ENSG00000000419</th>\n",
       "      <th>ENSG00000000457</th>\n",
       "    </tr>\n",
       "  </thead>\n",
       "  <tbody>\n",
       "    <tr>\n",
       "      <th>TCGA-2A-A8W3-01</th>\n",
       "      <td>4.866321</td>\n",
       "      <td>4.847948</td>\n",
       "      <td>3.942577</td>\n",
       "    </tr>\n",
       "    <tr>\n",
       "      <th>TCGA-CH-5788-01</th>\n",
       "      <td>6.312406</td>\n",
       "      <td>4.654767</td>\n",
       "      <td>4.099412</td>\n",
       "    </tr>\n",
       "    <tr>\n",
       "      <th>TCGA-EJ-5504-01</th>\n",
       "      <td>6.533654</td>\n",
       "      <td>4.600528</td>\n",
       "      <td>4.405754</td>\n",
       "    </tr>\n",
       "    <tr>\n",
       "      <th>TCGA-EJ-5508-01</th>\n",
       "      <td>6.128060</td>\n",
       "      <td>4.665022</td>\n",
       "      <td>4.872938</td>\n",
       "    </tr>\n",
       "    <tr>\n",
       "      <th>TCGA-EJ-5510-01</th>\n",
       "      <td>6.242000</td>\n",
       "      <td>4.519519</td>\n",
       "      <td>4.300672</td>\n",
       "    </tr>\n",
       "  </tbody>\n",
       "</table>\n",
       "</div>"
      ],
      "text/plain": [
       "                 ENSG00000000003  ENSG00000000419  ENSG00000000457\n",
       "TCGA-2A-A8W3-01         4.866321         4.847948         3.942577\n",
       "TCGA-CH-5788-01         6.312406         4.654767         4.099412\n",
       "TCGA-EJ-5504-01         6.533654         4.600528         4.405754\n",
       "TCGA-EJ-5508-01         6.128060         4.665022         4.872938\n",
       "TCGA-EJ-5510-01         6.242000         4.519519         4.300672"
      ]
     },
     "execution_count": 158,
     "metadata": {},
     "output_type": "execute_result"
    }
   ],
   "source": [
    "rna = pd.read_csv('rna153.csv', index_col=0)\n",
    "rna = rna.T\n",
    "rna.iloc[0:5:,0:3]"
   ]
  },
  {
   "cell_type": "code",
   "execution_count": 159,
   "metadata": {},
   "outputs": [
    {
     "data": {
      "text/plain": [
       "(153, 15536)"
      ]
     },
     "execution_count": 159,
     "metadata": {},
     "output_type": "execute_result"
    }
   ],
   "source": [
    "rna.shape"
   ]
  },
  {
   "cell_type": "code",
   "execution_count": null,
   "metadata": {},
   "outputs": [],
   "source": []
  },
  {
   "cell_type": "code",
   "execution_count": 160,
   "metadata": {},
   "outputs": [
    {
     "name": "stdout",
     "output_type": "stream",
     "text": [
      "<class 'pandas.core.frame.DataFrame'>\n",
      "Index: 153 entries, TCGA-2A-A8W3-01 to TCGA-ZG-A9LZ-01\n",
      "Columns: 15536 entries, ENSG00000000003 to ENSG00000204296\n",
      "dtypes: float64(15536)\n",
      "memory usage: 18.1+ MB\n"
     ]
    }
   ],
   "source": [
    "rna.info()"
   ]
  },
  {
   "cell_type": "code",
   "execution_count": 161,
   "metadata": {},
   "outputs": [
    {
     "data": {
      "text/html": [
       "<div>\n",
       "<style scoped>\n",
       "    .dataframe tbody tr th:only-of-type {\n",
       "        vertical-align: middle;\n",
       "    }\n",
       "\n",
       "    .dataframe tbody tr th {\n",
       "        vertical-align: top;\n",
       "    }\n",
       "\n",
       "    .dataframe thead th {\n",
       "        text-align: right;\n",
       "    }\n",
       "</style>\n",
       "<table border=\"1\" class=\"dataframe\">\n",
       "  <thead>\n",
       "    <tr style=\"text-align: right;\">\n",
       "      <th></th>\n",
       "      <th>ENSG00000000003</th>\n",
       "      <th>ENSG00000000419</th>\n",
       "      <th>ENSG00000000457</th>\n",
       "      <th>ENSG00000000460</th>\n",
       "      <th>ENSG00000000938</th>\n",
       "      <th>ENSG00000000971</th>\n",
       "    </tr>\n",
       "  </thead>\n",
       "  <tbody>\n",
       "    <tr>\n",
       "      <th>count</th>\n",
       "      <td>153.000000</td>\n",
       "      <td>153.000000</td>\n",
       "      <td>153.000000</td>\n",
       "      <td>153.000000</td>\n",
       "      <td>153.000000</td>\n",
       "      <td>153.000000</td>\n",
       "    </tr>\n",
       "    <tr>\n",
       "      <th>mean</th>\n",
       "      <td>5.843543</td>\n",
       "      <td>4.681327</td>\n",
       "      <td>4.157550</td>\n",
       "      <td>1.891002</td>\n",
       "      <td>2.139617</td>\n",
       "      <td>4.015591</td>\n",
       "    </tr>\n",
       "    <tr>\n",
       "      <th>std</th>\n",
       "      <td>0.569607</td>\n",
       "      <td>0.310580</td>\n",
       "      <td>0.498059</td>\n",
       "      <td>0.496905</td>\n",
       "      <td>0.904835</td>\n",
       "      <td>1.069145</td>\n",
       "    </tr>\n",
       "    <tr>\n",
       "      <th>min</th>\n",
       "      <td>2.915246</td>\n",
       "      <td>3.490407</td>\n",
       "      <td>3.043361</td>\n",
       "      <td>0.266642</td>\n",
       "      <td>-0.460337</td>\n",
       "      <td>1.405213</td>\n",
       "    </tr>\n",
       "    <tr>\n",
       "      <th>25%</th>\n",
       "      <td>5.515916</td>\n",
       "      <td>4.540176</td>\n",
       "      <td>3.848762</td>\n",
       "      <td>1.542936</td>\n",
       "      <td>1.668871</td>\n",
       "      <td>3.181833</td>\n",
       "    </tr>\n",
       "    <tr>\n",
       "      <th>50%</th>\n",
       "      <td>5.860118</td>\n",
       "      <td>4.709836</td>\n",
       "      <td>4.153590</td>\n",
       "      <td>1.916693</td>\n",
       "      <td>2.095957</td>\n",
       "      <td>4.123162</td>\n",
       "    </tr>\n",
       "    <tr>\n",
       "      <th>75%</th>\n",
       "      <td>6.193381</td>\n",
       "      <td>4.847948</td>\n",
       "      <td>4.470443</td>\n",
       "      <td>2.213119</td>\n",
       "      <td>2.752876</td>\n",
       "      <td>4.718844</td>\n",
       "    </tr>\n",
       "    <tr>\n",
       "      <th>max</th>\n",
       "      <td>7.661269</td>\n",
       "      <td>5.754718</td>\n",
       "      <td>5.477418</td>\n",
       "      <td>3.207159</td>\n",
       "      <td>5.223149</td>\n",
       "      <td>6.639338</td>\n",
       "    </tr>\n",
       "  </tbody>\n",
       "</table>\n",
       "</div>"
      ],
      "text/plain": [
       "       ENSG00000000003  ENSG00000000419  ENSG00000000457  ENSG00000000460  \\\n",
       "count       153.000000       153.000000       153.000000       153.000000   \n",
       "mean          5.843543         4.681327         4.157550         1.891002   \n",
       "std           0.569607         0.310580         0.498059         0.496905   \n",
       "min           2.915246         3.490407         3.043361         0.266642   \n",
       "25%           5.515916         4.540176         3.848762         1.542936   \n",
       "50%           5.860118         4.709836         4.153590         1.916693   \n",
       "75%           6.193381         4.847948         4.470443         2.213119   \n",
       "max           7.661269         5.754718         5.477418         3.207159   \n",
       "\n",
       "       ENSG00000000938  ENSG00000000971  \n",
       "count       153.000000       153.000000  \n",
       "mean          2.139617         4.015591  \n",
       "std           0.904835         1.069145  \n",
       "min          -0.460337         1.405213  \n",
       "25%           1.668871         3.181833  \n",
       "50%           2.095957         4.123162  \n",
       "75%           2.752876         4.718844  \n",
       "max           5.223149         6.639338  "
      ]
     },
     "execution_count": 161,
     "metadata": {},
     "output_type": "execute_result"
    }
   ],
   "source": [
    "rna.iloc[:,0:6].describe()"
   ]
  },
  {
   "cell_type": "code",
   "execution_count": null,
   "metadata": {},
   "outputs": [],
   "source": []
  },
  {
   "cell_type": "code",
   "execution_count": 162,
   "metadata": {},
   "outputs": [
    {
     "data": {
      "image/png": "[encoded data removed]",
      "text/plain": [
       "<Figure size 1440x1080 with 6 Axes>"
      ]
     },
     "metadata": {},
     "output_type": "display_data"
    }
   ],
   "source": [
    "%matplotlib inline\n",
    "\n",
    "import matplotlib.pyplot as plt\n",
    "\n",
    "rna.iloc[:,0:6].hist(bins=50, figsize=(20,15))\n",
    "\n",
    "plt.show()"
   ]
  },
  {
   "cell_type": "code",
   "execution_count": null,
   "metadata": {},
   "outputs": [],
   "source": []
  },
  {
   "cell_type": "code",
   "execution_count": 163,
   "metadata": {},
   "outputs": [],
   "source": [
    "rna_bcr_corr = abs(rna.corrwith(phe['days_to_bcr']))"
   ]
  },
  {
   "cell_type": "code",
   "execution_count": 164,
   "metadata": {},
   "outputs": [],
   "source": [
    "rna_bcr_corr_sort = rna_bcr_corr.sort_values(ascending=False)"
   ]
  },
  {
   "cell_type": "code",
   "execution_count": 165,
   "metadata": {},
   "outputs": [
    {
     "data": {
      "text/plain": [
       "ENSG00000165983    0.381159\n",
       "ENSG00000004777    0.379584\n",
       "ENSG00000061273    0.368599\n",
       "ENSG00000138942    0.364709\n",
       "ENSG00000065665    0.361833\n",
       "ENSG00000172932    0.352483\n",
       "ENSG00000076382    0.352387\n",
       "ENSG00000225855    0.350211\n",
       "ENSG00000250903    0.345276\n",
       "ENSG00000169992    0.345274\n",
       "ENSG00000101224    0.345037\n",
       "ENSG00000148384    0.344797\n",
       "ENSG00000133247    0.344294\n",
       "ENSG00000132016    0.343456\n",
       "ENSG00000106819    0.342584\n",
       "ENSG00000254815    0.341131\n",
       "ENSG00000185267    0.341115\n",
       "ENSG00000143630    0.339256\n",
       "ENSG00000149782    0.338304\n",
       "ENSG00000013810    0.335026\n",
       "ENSG00000188766    0.333855\n",
       "ENSG00000255007    0.332315\n",
       "ENSG00000168056    0.331135\n",
       "ENSG00000122678    0.330968\n",
       "ENSG00000168010    0.328510\n",
       "ENSG00000247796    0.328195\n",
       "ENSG00000139636    0.327326\n",
       "ENSG00000204248    0.324566\n",
       "ENSG00000160741    0.323947\n",
       "ENSG00000103018    0.323799\n",
       "                     ...   \n",
       "ENSG00000187123    0.000209\n",
       "ENSG00000103091    0.000209\n",
       "ENSG00000222033    0.000195\n",
       "ENSG00000109458    0.000177\n",
       "ENSG00000105738    0.000176\n",
       "ENSG00000120699    0.000176\n",
       "ENSG00000143190    0.000173\n",
       "ENSG00000213799    0.000172\n",
       "ENSG00000255561    0.000166\n",
       "ENSG00000104936    0.000159\n",
       "ENSG00000063601    0.000141\n",
       "ENSG00000176102    0.000134\n",
       "ENSG00000175283    0.000130\n",
       "ENSG00000105851    0.000124\n",
       "ENSG00000116954    0.000115\n",
       "ENSG00000157538    0.000114\n",
       "ENSG00000130119    0.000112\n",
       "ENSG00000197562    0.000105\n",
       "ENSG00000050165    0.000098\n",
       "ENSG00000198363    0.000089\n",
       "ENSG00000164535    0.000078\n",
       "ENSG00000181315    0.000075\n",
       "ENSG00000136237    0.000067\n",
       "ENSG00000084092    0.000062\n",
       "ENSG00000183621    0.000051\n",
       "ENSG00000157020    0.000030\n",
       "ENSG00000160145    0.000029\n",
       "ENSG00000183309    0.000019\n",
       "ENSG00000162869    0.000017\n",
       "ENSG00000160097    0.000010\n",
       "Length: 15536, dtype: float64"
      ]
     },
     "execution_count": 165,
     "metadata": {},
     "output_type": "execute_result"
    }
   ],
   "source": [
    "rna_bcr_corr_sort"
   ]
  },
  {
   "cell_type": "code",
   "execution_count": 166,
   "metadata": {},
   "outputs": [
    {
     "data": {
      "text/plain": [
       "pandas.core.series.Series"
      ]
     },
     "execution_count": 166,
     "metadata": {},
     "output_type": "execute_result"
    }
   ],
   "source": [
    "type(rna_bcr_corr)"
   ]
  },
  {
   "cell_type": "code",
   "execution_count": null,
   "metadata": {},
   "outputs": [],
   "source": []
  },
  {
   "cell_type": "code",
   "execution_count": null,
   "metadata": {},
   "outputs": [],
   "source": []
  },
  {
   "cell_type": "code",
   "execution_count": 167,
   "metadata": {},
   "outputs": [
    {
     "data": {
      "text/plain": [
       "'ENSG00000165983'"
      ]
     },
     "execution_count": 167,
     "metadata": {},
     "output_type": "execute_result"
    }
   ],
   "source": [
    "gene1 = rna_bcr_corr_sort.index[0]\n",
    "gene1"
   ]
  },
  {
   "cell_type": "code",
   "execution_count": 168,
   "metadata": {},
   "outputs": [],
   "source": [
    "x1 = rna[gene1]\n",
    "y1 = phe['days_to_bcr']"
   ]
  },
  {
   "cell_type": "code",
   "execution_count": 169,
   "metadata": {},
   "outputs": [
    {
     "data": {
      "text/plain": [
       "'ENSG00000160097'"
      ]
     },
     "execution_count": 169,
     "metadata": {},
     "output_type": "execute_result"
    }
   ],
   "source": [
    "gene2 = rna_bcr_corr_sort.index[-1]\n",
    "gene2"
   ]
  },
  {
   "cell_type": "code",
   "execution_count": 170,
   "metadata": {},
   "outputs": [],
   "source": [
    "x2 = rna[gene2]\n",
    "y2 = phe['days_to_bcr']"
   ]
  },
  {
   "cell_type": "code",
   "execution_count": null,
   "metadata": {},
   "outputs": [],
   "source": []
  },
  {
   "cell_type": "code",
   "execution_count": 171,
   "metadata": {},
   "outputs": [
    {
     "data": {
      "image/png": "[encoded data removed]",
      "text/plain": [
       "<Figure size 1080x360 with 2 Axes>"
      ]
     },
     "metadata": {},
     "output_type": "display_data"
    }
   ],
   "source": [
    "###\n",
    "import numpy as np\n",
    "\n",
    "plt.figure(figsize=(15,5))\n",
    "\n",
    "plt.subplot(1, 2, 1)\n",
    "plt.scatter(x=x1, y=y1, color='limegreen')\n",
    "plt.title(gene1)\n",
    "plt.xlabel('gene expression level')\n",
    "plt.ylabel('days_to_bcr')\n",
    "\n",
    "z1 = np.polyfit(x1, y1, 1)\n",
    "p1 = np.poly1d(z1)\n",
    "plt.plot(x1,p1(x1), 'b', color='red') # r--\n",
    "\n",
    "\n",
    "###\n",
    "plt.subplot(1, 2, 2)\n",
    "plt.scatter(x=x2, y=y2, color='dodgerblue')\n",
    "plt.title(gene2)\n",
    "plt.xlabel('gene expression level')\n",
    "plt.ylabel('days_to_bcr')\n",
    "\n",
    "\n",
    "z2 = np.polyfit(x2, y2, 1)\n",
    "p2 = np.poly1d(z2)\n",
    "plt.plot(x2,p2(x2), 'b', color='red')\n",
    "\n",
    "\n",
    "plt.show()"
   ]
  },
  {
   "cell_type": "code",
   "execution_count": null,
   "metadata": {},
   "outputs": [],
   "source": []
  },
  {
   "cell_type": "code",
   "execution_count": null,
   "metadata": {},
   "outputs": [],
   "source": []
  },
  {
   "cell_type": "code",
   "execution_count": 316,
   "metadata": {},
   "outputs": [
    {
     "data": {
      "text/plain": [
       "Index(['ENSG00000165983', 'ENSG00000004777', 'ENSG00000061273',\n",
       "       'ENSG00000138942', 'ENSG00000065665', 'ENSG00000172932',\n",
       "       'ENSG00000076382', 'ENSG00000225855', 'ENSG00000250903',\n",
       "       'ENSG00000169992', 'ENSG00000101224', 'ENSG00000148384',\n",
       "       'ENSG00000133247', 'ENSG00000132016', 'ENSG00000106819',\n",
       "       'ENSG00000254815', 'ENSG00000185267', 'ENSG00000143630',\n",
       "       'ENSG00000149782', 'ENSG00000013810', 'ENSG00000188766',\n",
       "       'ENSG00000255007', 'ENSG00000168056', 'ENSG00000122678',\n",
       "       'ENSG00000168010', 'ENSG00000247796', 'ENSG00000139636',\n",
       "       'ENSG00000204248', 'ENSG00000160741', 'ENSG00000103018',\n",
       "       'ENSG00000125780', 'ENSG00000171476', 'ENSG00000162599',\n",
       "       'ENSG00000071246', 'ENSG00000100522', 'ENSG00000161381',\n",
       "       'ENSG00000089280', 'ENSG00000149679', 'ENSG00000205707',\n",
       "       'ENSG00000234771', 'ENSG00000085999', 'ENSG00000133624',\n",
       "       'ENSG00000166508', 'ENSG00000116171', 'ENSG00000273373',\n",
       "       'ENSG00000140534', 'ENSG00000181350', 'ENSG00000267795',\n",
       "       'ENSG00000142102', 'ENSG00000179772', 'ENSG00000186952',\n",
       "       'ENSG00000257542', 'ENSG00000266680', 'ENSG00000114770',\n",
       "       'ENSG00000182272', 'ENSG00000204560', 'ENSG00000132780',\n",
       "       'ENSG00000099364', 'ENSG00000135476', 'ENSG00000196876',\n",
       "       'ENSG00000110274', 'ENSG00000176444', 'ENSG00000146904',\n",
       "       'ENSG00000204231', 'ENSG00000241404', 'ENSG00000143127',\n",
       "       'ENSG00000198276', 'ENSG00000178038', 'ENSG00000172382',\n",
       "       'ENSG00000106404', 'ENSG00000185345', 'ENSG00000246922',\n",
       "       'ENSG00000172732', 'ENSG00000142945', 'ENSG00000137809',\n",
       "       'ENSG00000182979', 'ENSG00000153531', 'ENSG00000117472',\n",
       "       'ENSG00000117151', 'ENSG00000164932', 'ENSG00000003756',\n",
       "       'ENSG00000135451', 'ENSG00000163377', 'ENSG00000213347',\n",
       "       'ENSG00000169231', 'ENSG00000116883', 'ENSG00000198125',\n",
       "       'ENSG00000185684', 'ENSG00000166851', 'ENSG00000115318',\n",
       "       'ENSG00000213420', 'ENSG00000163251', 'ENSG00000164296',\n",
       "       'ENSG00000004534', 'ENSG00000204934', 'ENSG00000186818',\n",
       "       'ENSG00000141569', 'ENSG00000108387', 'ENSG00000074855',\n",
       "       'ENSG00000187583'],\n",
       "      dtype='object')"
      ]
     },
     "execution_count": 316,
     "metadata": {},
     "output_type": "execute_result"
    }
   ],
   "source": [
    "genes = rna_bcr_corr_sort.index[:100]\n",
    "genes"
   ]
  },
  {
   "cell_type": "code",
   "execution_count": 317,
   "metadata": {},
   "outputs": [
    {
     "data": {
      "text/plain": [
       "(153, 100)"
      ]
     },
     "execution_count": 317,
     "metadata": {},
     "output_type": "execute_result"
    }
   ],
   "source": [
    "rna = rna[genes]\n",
    "rna.shape"
   ]
  },
  {
   "cell_type": "code",
   "execution_count": null,
   "metadata": {},
   "outputs": [],
   "source": []
  },
  {
   "cell_type": "code",
   "execution_count": null,
   "metadata": {},
   "outputs": [],
   "source": []
  },
  {
   "cell_type": "code",
   "execution_count": 318,
   "metadata": {},
   "outputs": [],
   "source": [
    "from sklearn.preprocessing import StandardScaler\n",
    "\n",
    "std = StandardScaler()\n",
    "rna_tr = std.fit_transform(rna)"
   ]
  },
  {
   "cell_type": "code",
   "execution_count": 319,
   "metadata": {},
   "outputs": [
    {
     "data": {
      "text/plain": [
       "array([[ 0.01020305,  0.9708299 ,  0.99424678, ...,  0.26617201,\n",
       "         1.36589533,  1.41828813],\n",
       "       [ 0.16509144, -1.26775352, -1.70105942, ..., -1.38970671,\n",
       "        -1.29292588, -1.04658608],\n",
       "       [ 0.8959669 , -1.8928794 , -1.3092475 , ..., -0.01659504,\n",
       "        -1.37053455, -0.84739215],\n",
       "       ...,\n",
       "       [ 0.38807502,  0.54907246,  0.23562237, ...,  0.93137114,\n",
       "        -0.86273417, -1.51212646],\n",
       "       [-2.07933034,  0.08908149,  0.66596255, ...,  2.16824567,\n",
       "        -0.99887383,  0.54076596],\n",
       "       [ 0.21158967, -0.49137931, -0.64731932, ...,  0.06118857,\n",
       "         0.79989105,  0.7932385 ]])"
      ]
     },
     "execution_count": 319,
     "metadata": {},
     "output_type": "execute_result"
    }
   ],
   "source": [
    "rna_tr"
   ]
  },
  {
   "cell_type": "code",
   "execution_count": 320,
   "metadata": {},
   "outputs": [],
   "source": [
    "ck = (rna.iloc[:,0]-rna.iloc[:,0].mean())/rna.iloc[:,0].std()"
   ]
  },
  {
   "cell_type": "code",
   "execution_count": 321,
   "metadata": {},
   "outputs": [
    {
     "data": {
      "text/plain": [
       "TCGA-2A-A8W3-01    0.010170\n",
       "TCGA-CH-5788-01    0.164551\n",
       "TCGA-EJ-5504-01    0.893034\n",
       "TCGA-EJ-5508-01    0.978702\n",
       "TCGA-EJ-5510-01    0.471765\n",
       "TCGA-EJ-5514-01    1.152784\n",
       "TCGA-EJ-5515-01    1.330449\n",
       "TCGA-EJ-5516-01    1.973138\n",
       "TCGA-EJ-5517-01    1.528431\n",
       "TCGA-EJ-5518-01   -2.223292\n",
       "Name: ENSG00000165983, dtype: float64"
      ]
     },
     "execution_count": 321,
     "metadata": {},
     "output_type": "execute_result"
    }
   ],
   "source": [
    "ck[:10]"
   ]
  },
  {
   "cell_type": "code",
   "execution_count": null,
   "metadata": {},
   "outputs": [],
   "source": []
  },
  {
   "cell_type": "code",
   "execution_count": 322,
   "metadata": {},
   "outputs": [
    {
     "data": {
      "text/plain": [
       "TCGA-2A-A8W3-01    0.108493\n",
       "TCGA-CH-5788-01    0.430685\n",
       "TCGA-EJ-5504-01    0.042192\n",
       "TCGA-EJ-5508-01    1.000000\n",
       "TCGA-EJ-5510-01    1.000000\n",
       "TCGA-EJ-5514-01    1.000000\n",
       "TCGA-EJ-5515-01    1.000000\n",
       "TCGA-EJ-5516-01    1.000000\n",
       "TCGA-EJ-5517-01    1.000000\n",
       "TCGA-EJ-5518-01    1.000000\n",
       "TCGA-EJ-5519-01    0.046027\n",
       "TCGA-EJ-5521-01    1.000000\n",
       "TCGA-EJ-5522-01    1.000000\n",
       "TCGA-EJ-5524-01    0.632877\n",
       "TCGA-EJ-5525-01    0.185205\n",
       "TCGA-EJ-5526-01    0.294247\n",
       "TCGA-EJ-5530-01    1.000000\n",
       "TCGA-EJ-5532-01    1.000000\n",
       "TCGA-EJ-7115-01    1.000000\n",
       "TCGA-EJ-7123-01    1.000000\n",
       "TCGA-EJ-7125-01    1.000000\n",
       "TCGA-EJ-7218-01    1.000000\n",
       "TCGA-EJ-7318-01    0.103562\n",
       "TCGA-EJ-7331-01    0.103562\n",
       "TCGA-EJ-7783-01    0.044384\n",
       "TCGA-EJ-8468-01    1.000000\n",
       "TCGA-EJ-8469-01    1.000000\n",
       "TCGA-EJ-8472-01    0.107397\n",
       "TCGA-EJ-A46F-01    0.117808\n",
       "TCGA-EJ-A65F-01    0.041096\n",
       "                     ...   \n",
       "TCGA-VP-A878-01    0.053699\n",
       "TCGA-VP-A87B-01    1.000000\n",
       "TCGA-VP-A87D-01    0.654247\n",
       "TCGA-VP-A87E-01    1.000000\n",
       "TCGA-VP-A87K-01    0.255890\n",
       "TCGA-X4-A8KQ-01    0.483836\n",
       "TCGA-XJ-A9DX-01    0.082740\n",
       "TCGA-XK-AAJR-01    0.071781\n",
       "TCGA-YJ-A8SW-01    0.081096\n",
       "TCGA-YL-A8HK-01    0.753973\n",
       "TCGA-YL-A8HM-01    0.807123\n",
       "TCGA-YL-A8HO-01    0.585205\n",
       "TCGA-YL-A8S8-01    0.372055\n",
       "TCGA-YL-A8S9-01    1.000000\n",
       "TCGA-YL-A8SB-01    0.758356\n",
       "TCGA-YL-A8SC-01    0.083288\n",
       "TCGA-YL-A8SI-01    0.779726\n",
       "TCGA-YL-A8SJ-01    0.412055\n",
       "TCGA-YL-A8SO-01    1.000000\n",
       "TCGA-YL-A8SP-01    1.000000\n",
       "TCGA-YL-A8SQ-01    0.180274\n",
       "TCGA-YL-A9WJ-01    0.041644\n",
       "TCGA-YL-A9WK-01    0.552877\n",
       "TCGA-YL-A9WL-01    0.405479\n",
       "TCGA-YL-A9WX-01    0.825205\n",
       "TCGA-YL-A9WY-01    0.419178\n",
       "TCGA-ZG-A9L2-01    0.098630\n",
       "TCGA-ZG-A9L6-01    0.363836\n",
       "TCGA-ZG-A9L9-01    0.027945\n",
       "TCGA-ZG-A9LZ-01    0.169863\n",
       "Name: days_to_bcr, Length: 153, dtype: float64"
      ]
     },
     "execution_count": 322,
     "metadata": {},
     "output_type": "execute_result"
    }
   ],
   "source": [
    "days_to_bcr = phe['days_to_bcr'].copy()\n",
    "days_to_bcr"
   ]
  },
  {
   "cell_type": "code",
   "execution_count": null,
   "metadata": {},
   "outputs": [],
   "source": []
  },
  {
   "cell_type": "code",
   "execution_count": null,
   "metadata": {},
   "outputs": [],
   "source": []
  },
  {
   "cell_type": "code",
   "execution_count": 323,
   "metadata": {},
   "outputs": [],
   "source": [
    "import numpy as np\n",
    "\n",
    "def split_train_test(data, test_ratio):\n",
    "    shuffled_indices = np.random.permutation(len(data))\n",
    "    test_set_size = int(len(data)*test_ratio)\n",
    "    test_indices = shuffled_indices[:test_set_size]\n",
    "    train_indices = shuffled_indices[test_set_size:]\n",
    "    \n",
    "    return (data.iloc[train_indices], data.iloc[test_indices])"
   ]
  },
  {
   "cell_type": "code",
   "execution_count": null,
   "metadata": {},
   "outputs": [],
   "source": []
  },
  {
   "cell_type": "code",
   "execution_count": 324,
   "metadata": {},
   "outputs": [],
   "source": [
    "test_ratio = 1/3\n",
    "n_instances = len(rna)\n",
    "\n",
    "\n",
    "shuffled_indices = np.random.permutation(n_instances)\n",
    "test_set_size = int(n_instances*test_ratio)"
   ]
  },
  {
   "cell_type": "code",
   "execution_count": 325,
   "metadata": {},
   "outputs": [
    {
     "data": {
      "text/plain": [
       "51"
      ]
     },
     "execution_count": 325,
     "metadata": {},
     "output_type": "execute_result"
    }
   ],
   "source": [
    "test_set_size"
   ]
  },
  {
   "cell_type": "code",
   "execution_count": 326,
   "metadata": {},
   "outputs": [],
   "source": [
    "test_indices = shuffled_indices[:test_set_size]\n",
    "train_indices = shuffled_indices[test_set_size:]"
   ]
  },
  {
   "cell_type": "code",
   "execution_count": null,
   "metadata": {},
   "outputs": [],
   "source": []
  },
  {
   "cell_type": "code",
   "execution_count": 327,
   "metadata": {},
   "outputs": [],
   "source": [
    "train_rna = rna.iloc[train_indices]\n",
    "test_rna = rna.iloc[test_indices]"
   ]
  },
  {
   "cell_type": "code",
   "execution_count": 328,
   "metadata": {},
   "outputs": [
    {
     "data": {
      "text/plain": [
       "(102, 100)"
      ]
     },
     "execution_count": 328,
     "metadata": {},
     "output_type": "execute_result"
    }
   ],
   "source": [
    "train_rna.shape"
   ]
  },
  {
   "cell_type": "code",
   "execution_count": null,
   "metadata": {},
   "outputs": [],
   "source": []
  },
  {
   "cell_type": "code",
   "execution_count": 329,
   "metadata": {},
   "outputs": [],
   "source": [
    "train_phe = phe.iloc[train_indices]\n",
    "test_phe = phe.iloc[test_indices]"
   ]
  },
  {
   "cell_type": "code",
   "execution_count": 330,
   "metadata": {
    "scrolled": true
   },
   "outputs": [
    {
     "data": {
      "text/html": [
       "<div>\n",
       "<style scoped>\n",
       "    .dataframe tbody tr th:only-of-type {\n",
       "        vertical-align: middle;\n",
       "    }\n",
       "\n",
       "    .dataframe tbody tr th {\n",
       "        vertical-align: top;\n",
       "    }\n",
       "\n",
       "    .dataframe thead th {\n",
       "        text-align: right;\n",
       "    }\n",
       "</style>\n",
       "<table border=\"1\" class=\"dataframe\">\n",
       "  <thead>\n",
       "    <tr style=\"text-align: right;\">\n",
       "      <th></th>\n",
       "      <th>days_to_bcr</th>\n",
       "      <th>bcr_status</th>\n",
       "    </tr>\n",
       "  </thead>\n",
       "  <tbody>\n",
       "    <tr>\n",
       "      <th>TCGA-KC-A4BL-01</th>\n",
       "      <td>0.105753</td>\n",
       "      <td>0</td>\n",
       "    </tr>\n",
       "    <tr>\n",
       "      <th>TCGA-X4-A8KQ-01</th>\n",
       "      <td>0.483836</td>\n",
       "      <td>0</td>\n",
       "    </tr>\n",
       "    <tr>\n",
       "      <th>TCGA-VP-A876-01</th>\n",
       "      <td>1.000000</td>\n",
       "      <td>1</td>\n",
       "    </tr>\n",
       "    <tr>\n",
       "      <th>TCGA-VP-A87D-01</th>\n",
       "      <td>0.654247</td>\n",
       "      <td>0</td>\n",
       "    </tr>\n",
       "    <tr>\n",
       "      <th>TCGA-G9-6336-01</th>\n",
       "      <td>1.000000</td>\n",
       "      <td>1</td>\n",
       "    </tr>\n",
       "    <tr>\n",
       "      <th>TCGA-KK-A7B2-01</th>\n",
       "      <td>0.379178</td>\n",
       "      <td>0</td>\n",
       "    </tr>\n",
       "    <tr>\n",
       "      <th>TCGA-QU-A6IP-01</th>\n",
       "      <td>1.000000</td>\n",
       "      <td>1</td>\n",
       "    </tr>\n",
       "    <tr>\n",
       "      <th>TCGA-KC-A4BV-01</th>\n",
       "      <td>0.727671</td>\n",
       "      <td>0</td>\n",
       "    </tr>\n",
       "    <tr>\n",
       "      <th>TCGA-QU-A6IN-01</th>\n",
       "      <td>1.000000</td>\n",
       "      <td>1</td>\n",
       "    </tr>\n",
       "    <tr>\n",
       "      <th>TCGA-EJ-5515-01</th>\n",
       "      <td>1.000000</td>\n",
       "      <td>1</td>\n",
       "    </tr>\n",
       "    <tr>\n",
       "      <th>TCGA-HI-7171-01</th>\n",
       "      <td>0.119452</td>\n",
       "      <td>0</td>\n",
       "    </tr>\n",
       "    <tr>\n",
       "      <th>TCGA-VP-A87B-01</th>\n",
       "      <td>1.000000</td>\n",
       "      <td>1</td>\n",
       "    </tr>\n",
       "    <tr>\n",
       "      <th>TCGA-KK-A59V-01</th>\n",
       "      <td>1.000000</td>\n",
       "      <td>1</td>\n",
       "    </tr>\n",
       "    <tr>\n",
       "      <th>TCGA-M7-A722-01</th>\n",
       "      <td>0.306301</td>\n",
       "      <td>0</td>\n",
       "    </tr>\n",
       "    <tr>\n",
       "      <th>TCGA-EJ-7331-01</th>\n",
       "      <td>0.103562</td>\n",
       "      <td>0</td>\n",
       "    </tr>\n",
       "    <tr>\n",
       "      <th>TCGA-YL-A8HK-01</th>\n",
       "      <td>0.753973</td>\n",
       "      <td>0</td>\n",
       "    </tr>\n",
       "    <tr>\n",
       "      <th>TCGA-YL-A9WL-01</th>\n",
       "      <td>0.405479</td>\n",
       "      <td>0</td>\n",
       "    </tr>\n",
       "    <tr>\n",
       "      <th>TCGA-YL-A9WY-01</th>\n",
       "      <td>0.419178</td>\n",
       "      <td>0</td>\n",
       "    </tr>\n",
       "    <tr>\n",
       "      <th>TCGA-HC-7738-01</th>\n",
       "      <td>0.230137</td>\n",
       "      <td>0</td>\n",
       "    </tr>\n",
       "    <tr>\n",
       "      <th>TCGA-V1-A9OL-01</th>\n",
       "      <td>0.057534</td>\n",
       "      <td>0</td>\n",
       "    </tr>\n",
       "    <tr>\n",
       "      <th>TCGA-YL-A8S9-01</th>\n",
       "      <td>1.000000</td>\n",
       "      <td>1</td>\n",
       "    </tr>\n",
       "    <tr>\n",
       "      <th>TCGA-EJ-7318-01</th>\n",
       "      <td>0.103562</td>\n",
       "      <td>0</td>\n",
       "    </tr>\n",
       "    <tr>\n",
       "      <th>TCGA-EJ-5525-01</th>\n",
       "      <td>0.185205</td>\n",
       "      <td>0</td>\n",
       "    </tr>\n",
       "    <tr>\n",
       "      <th>TCGA-V1-A8MM-01</th>\n",
       "      <td>0.542466</td>\n",
       "      <td>0</td>\n",
       "    </tr>\n",
       "    <tr>\n",
       "      <th>TCGA-J9-A8CM-01</th>\n",
       "      <td>0.188493</td>\n",
       "      <td>0</td>\n",
       "    </tr>\n",
       "    <tr>\n",
       "      <th>TCGA-G9-6338-01</th>\n",
       "      <td>1.000000</td>\n",
       "      <td>1</td>\n",
       "    </tr>\n",
       "    <tr>\n",
       "      <th>TCGA-YL-A8HO-01</th>\n",
       "      <td>0.585205</td>\n",
       "      <td>0</td>\n",
       "    </tr>\n",
       "    <tr>\n",
       "      <th>TCGA-KK-A8IH-01</th>\n",
       "      <td>1.000000</td>\n",
       "      <td>1</td>\n",
       "    </tr>\n",
       "    <tr>\n",
       "      <th>TCGA-VP-A87E-01</th>\n",
       "      <td>1.000000</td>\n",
       "      <td>1</td>\n",
       "    </tr>\n",
       "    <tr>\n",
       "      <th>TCGA-EJ-5519-01</th>\n",
       "      <td>0.046027</td>\n",
       "      <td>0</td>\n",
       "    </tr>\n",
       "    <tr>\n",
       "      <th>...</th>\n",
       "      <td>...</td>\n",
       "      <td>...</td>\n",
       "    </tr>\n",
       "    <tr>\n",
       "      <th>TCGA-VP-A878-01</th>\n",
       "      <td>0.053699</td>\n",
       "      <td>0</td>\n",
       "    </tr>\n",
       "    <tr>\n",
       "      <th>TCGA-V1-A9OH-01</th>\n",
       "      <td>1.000000</td>\n",
       "      <td>1</td>\n",
       "    </tr>\n",
       "    <tr>\n",
       "      <th>TCGA-KK-A7B4-01</th>\n",
       "      <td>0.349041</td>\n",
       "      <td>0</td>\n",
       "    </tr>\n",
       "    <tr>\n",
       "      <th>TCGA-EJ-8469-01</th>\n",
       "      <td>1.000000</td>\n",
       "      <td>1</td>\n",
       "    </tr>\n",
       "    <tr>\n",
       "      <th>TCGA-VP-A872-01</th>\n",
       "      <td>1.000000</td>\n",
       "      <td>1</td>\n",
       "    </tr>\n",
       "    <tr>\n",
       "      <th>TCGA-J9-A8CL-01</th>\n",
       "      <td>0.072329</td>\n",
       "      <td>0</td>\n",
       "    </tr>\n",
       "    <tr>\n",
       "      <th>TCGA-J9-A52B-01</th>\n",
       "      <td>0.046575</td>\n",
       "      <td>0</td>\n",
       "    </tr>\n",
       "    <tr>\n",
       "      <th>TCGA-HC-7077-01</th>\n",
       "      <td>1.000000</td>\n",
       "      <td>1</td>\n",
       "    </tr>\n",
       "    <tr>\n",
       "      <th>TCGA-G9-6498-01</th>\n",
       "      <td>0.735342</td>\n",
       "      <td>0</td>\n",
       "    </tr>\n",
       "    <tr>\n",
       "      <th>TCGA-J4-A83M-01</th>\n",
       "      <td>0.285479</td>\n",
       "      <td>0</td>\n",
       "    </tr>\n",
       "    <tr>\n",
       "      <th>TCGA-HI-7168-01</th>\n",
       "      <td>0.168767</td>\n",
       "      <td>0</td>\n",
       "    </tr>\n",
       "    <tr>\n",
       "      <th>TCGA-KK-A59X-01</th>\n",
       "      <td>1.000000</td>\n",
       "      <td>1</td>\n",
       "    </tr>\n",
       "    <tr>\n",
       "      <th>TCGA-G9-6343-01</th>\n",
       "      <td>1.000000</td>\n",
       "      <td>1</td>\n",
       "    </tr>\n",
       "    <tr>\n",
       "      <th>TCGA-EJ-5516-01</th>\n",
       "      <td>1.000000</td>\n",
       "      <td>1</td>\n",
       "    </tr>\n",
       "    <tr>\n",
       "      <th>TCGA-KK-A6E5-01</th>\n",
       "      <td>1.000000</td>\n",
       "      <td>1</td>\n",
       "    </tr>\n",
       "    <tr>\n",
       "      <th>TCGA-EJ-5504-01</th>\n",
       "      <td>0.042192</td>\n",
       "      <td>0</td>\n",
       "    </tr>\n",
       "    <tr>\n",
       "      <th>TCGA-ZG-A9L6-01</th>\n",
       "      <td>0.363836</td>\n",
       "      <td>0</td>\n",
       "    </tr>\n",
       "    <tr>\n",
       "      <th>TCGA-YL-A9WJ-01</th>\n",
       "      <td>0.041644</td>\n",
       "      <td>0</td>\n",
       "    </tr>\n",
       "    <tr>\n",
       "      <th>TCGA-YL-A8HM-01</th>\n",
       "      <td>0.807123</td>\n",
       "      <td>0</td>\n",
       "    </tr>\n",
       "    <tr>\n",
       "      <th>TCGA-VP-A87K-01</th>\n",
       "      <td>0.255890</td>\n",
       "      <td>0</td>\n",
       "    </tr>\n",
       "    <tr>\n",
       "      <th>TCGA-KK-A8I5-01</th>\n",
       "      <td>1.000000</td>\n",
       "      <td>1</td>\n",
       "    </tr>\n",
       "    <tr>\n",
       "      <th>TCGA-J4-A67S-01</th>\n",
       "      <td>0.387945</td>\n",
       "      <td>0</td>\n",
       "    </tr>\n",
       "    <tr>\n",
       "      <th>TCGA-KK-A59Z-01</th>\n",
       "      <td>1.000000</td>\n",
       "      <td>1</td>\n",
       "    </tr>\n",
       "    <tr>\n",
       "      <th>TCGA-G9-6362-01</th>\n",
       "      <td>0.790685</td>\n",
       "      <td>0</td>\n",
       "    </tr>\n",
       "    <tr>\n",
       "      <th>TCGA-KK-A8IF-01</th>\n",
       "      <td>0.355068</td>\n",
       "      <td>0</td>\n",
       "    </tr>\n",
       "    <tr>\n",
       "      <th>TCGA-VN-A88R-01</th>\n",
       "      <td>0.280548</td>\n",
       "      <td>0</td>\n",
       "    </tr>\n",
       "    <tr>\n",
       "      <th>TCGA-G9-6351-01</th>\n",
       "      <td>1.000000</td>\n",
       "      <td>1</td>\n",
       "    </tr>\n",
       "    <tr>\n",
       "      <th>TCGA-EJ-7218-01</th>\n",
       "      <td>1.000000</td>\n",
       "      <td>1</td>\n",
       "    </tr>\n",
       "    <tr>\n",
       "      <th>TCGA-KK-A8I7-01</th>\n",
       "      <td>0.596164</td>\n",
       "      <td>0</td>\n",
       "    </tr>\n",
       "    <tr>\n",
       "      <th>TCGA-HC-7213-01</th>\n",
       "      <td>0.093151</td>\n",
       "      <td>0</td>\n",
       "    </tr>\n",
       "  </tbody>\n",
       "</table>\n",
       "<p>102 rows × 2 columns</p>\n",
       "</div>"
      ],
      "text/plain": [
       "                 days_to_bcr  bcr_status\n",
       "TCGA-KC-A4BL-01     0.105753           0\n",
       "TCGA-X4-A8KQ-01     0.483836           0\n",
       "TCGA-VP-A876-01     1.000000           1\n",
       "TCGA-VP-A87D-01     0.654247           0\n",
       "TCGA-G9-6336-01     1.000000           1\n",
       "TCGA-KK-A7B2-01     0.379178           0\n",
       "TCGA-QU-A6IP-01     1.000000           1\n",
       "TCGA-KC-A4BV-01     0.727671           0\n",
       "TCGA-QU-A6IN-01     1.000000           1\n",
       "TCGA-EJ-5515-01     1.000000           1\n",
       "TCGA-HI-7171-01     0.119452           0\n",
       "TCGA-VP-A87B-01     1.000000           1\n",
       "TCGA-KK-A59V-01     1.000000           1\n",
       "TCGA-M7-A722-01     0.306301           0\n",
       "TCGA-EJ-7331-01     0.103562           0\n",
       "TCGA-YL-A8HK-01     0.753973           0\n",
       "TCGA-YL-A9WL-01     0.405479           0\n",
       "TCGA-YL-A9WY-01     0.419178           0\n",
       "TCGA-HC-7738-01     0.230137           0\n",
       "TCGA-V1-A9OL-01     0.057534           0\n",
       "TCGA-YL-A8S9-01     1.000000           1\n",
       "TCGA-EJ-7318-01     0.103562           0\n",
       "TCGA-EJ-5525-01     0.185205           0\n",
       "TCGA-V1-A8MM-01     0.542466           0\n",
       "TCGA-J9-A8CM-01     0.188493           0\n",
       "TCGA-G9-6338-01     1.000000           1\n",
       "TCGA-YL-A8HO-01     0.585205           0\n",
       "TCGA-KK-A8IH-01     1.000000           1\n",
       "TCGA-VP-A87E-01     1.000000           1\n",
       "TCGA-EJ-5519-01     0.046027           0\n",
       "...                      ...         ...\n",
       "TCGA-VP-A878-01     0.053699           0\n",
       "TCGA-V1-A9OH-01     1.000000           1\n",
       "TCGA-KK-A7B4-01     0.349041           0\n",
       "TCGA-EJ-8469-01     1.000000           1\n",
       "TCGA-VP-A872-01     1.000000           1\n",
       "TCGA-J9-A8CL-01     0.072329           0\n",
       "TCGA-J9-A52B-01     0.046575           0\n",
       "TCGA-HC-7077-01     1.000000           1\n",
       "TCGA-G9-6498-01     0.735342           0\n",
       "TCGA-J4-A83M-01     0.285479           0\n",
       "TCGA-HI-7168-01     0.168767           0\n",
       "TCGA-KK-A59X-01     1.000000           1\n",
       "TCGA-G9-6343-01     1.000000           1\n",
       "TCGA-EJ-5516-01     1.000000           1\n",
       "TCGA-KK-A6E5-01     1.000000           1\n",
       "TCGA-EJ-5504-01     0.042192           0\n",
       "TCGA-ZG-A9L6-01     0.363836           0\n",
       "TCGA-YL-A9WJ-01     0.041644           0\n",
       "TCGA-YL-A8HM-01     0.807123           0\n",
       "TCGA-VP-A87K-01     0.255890           0\n",
       "TCGA-KK-A8I5-01     1.000000           1\n",
       "TCGA-J4-A67S-01     0.387945           0\n",
       "TCGA-KK-A59Z-01     1.000000           1\n",
       "TCGA-G9-6362-01     0.790685           0\n",
       "TCGA-KK-A8IF-01     0.355068           0\n",
       "TCGA-VN-A88R-01     0.280548           0\n",
       "TCGA-G9-6351-01     1.000000           1\n",
       "TCGA-EJ-7218-01     1.000000           1\n",
       "TCGA-KK-A8I7-01     0.596164           0\n",
       "TCGA-HC-7213-01     0.093151           0\n",
       "\n",
       "[102 rows x 2 columns]"
      ]
     },
     "execution_count": 330,
     "metadata": {},
     "output_type": "execute_result"
    }
   ],
   "source": [
    "train_phe"
   ]
  },
  {
   "cell_type": "code",
   "execution_count": null,
   "metadata": {},
   "outputs": [],
   "source": []
  },
  {
   "cell_type": "code",
   "execution_count": 331,
   "metadata": {},
   "outputs": [],
   "source": [
    "from sklearn.linear_model import LinearRegression\n",
    "from sklearn.linear_model import Ridge\n",
    "from sklearn.linear_model import Lasso\n",
    "from sklearn.linear_model import ElasticNet\n",
    "\n",
    "from sklearn.tree import DecisionTreeRegressor\n",
    "from sklearn.ensemble import RandomForestRegressor\n",
    "from sklearn.svm import SVR\n",
    "\n",
    "#reg = LinearRegression()\n",
    "reg1 = Ridge()\n",
    "reg2 = Lasso()\n",
    "reg3 = ElasticNet()\n",
    "\n",
    "reg4 = DecisionTreeRegressor()\n",
    "reg5 = RandomForestRegressor()\n",
    "\n",
    "reg6 = SVR(kernel='linear')\n",
    "reg7 = SVR(kernel='poly')\n",
    "reg8 = SVR(kernel='rbf')\n",
    "\n",
    "\n",
    "for reg in [reg1, reg2, reg3, reg4, reg5, reg6, reg7, reg8]:\n",
    "    reg.fit(train_rna, train_phe['days_to_bcr'])\n",
    "\n",
    "\n",
    "#reg1.fit(train_rna, train_phe['days_to_bcr'])\n",
    "#reg2.fit(train_rna, train_phe['days_to_bcr'])\n",
    "#reg3.fit(train_rna, train_phe['days_to_bcr'])\n",
    "#reg4.fit(train_rna, train_phe['days_to_bcr'])\n",
    "#reg5.fit(train_rna, train_phe['days_to_bcr'])\n",
    "#reg6.fit(train_rna, train_phe['days_to_bcr'])\n",
    "#reg7.fit(train_rna, train_phe['days_to_bcr'])\n",
    "#reg8.fit(train_rna, train_phe['days_to_bcr'])\n",
    "\n",
    "\n",
    "\n"
   ]
  },
  {
   "cell_type": "code",
   "execution_count": 332,
   "metadata": {},
   "outputs": [],
   "source": [
    "pred1 = reg1.predict(test_rna)\n",
    "pred2 = reg2.predict(test_rna)\n",
    "pred3 = reg3.predict(test_rna)\n",
    "pred4 = reg4.predict(test_rna)\n",
    "\n",
    "pred5 = reg5.predict(test_rna)\n",
    "pred6 = reg6.predict(test_rna)\n",
    "pred7 = reg7.predict(test_rna)\n",
    "pred8 = reg8.predict(test_rna)"
   ]
  },
  {
   "cell_type": "code",
   "execution_count": 333,
   "metadata": {},
   "outputs": [
    {
     "data": {
      "text/plain": [
       "array([ 0.99058911,  1.12165375,  0.09899414,  0.51432855,  0.58769089,\n",
       "       -0.027251  ,  0.94157058,  0.03927087,  0.6325519 ,  0.58437173,\n",
       "        1.10250338,  0.78804681,  0.57599987,  0.52207371,  0.33756572,\n",
       "       -0.00172621,  0.05110617,  1.10106782,  0.04383257, -0.19116659,\n",
       "        0.57011828,  0.17060315, -0.28446223,  0.77028147,  0.33057797,\n",
       "        0.73514883,  1.06319258,  1.37711943,  1.13191578,  1.24486631,\n",
       "        0.43937495,  1.47743576,  0.26574167,  0.84923311,  0.74067542,\n",
       "        0.86850723,  0.67705893,  0.95064178, -0.10108246,  0.82113148,\n",
       "        0.61574772,  0.37980401,  0.81337798,  0.55695675, -0.18525325,\n",
       "        1.27328452,  0.50329362,  0.47322765,  0.33896495,  0.27201657,\n",
       "        0.54285626])"
      ]
     },
     "execution_count": 333,
     "metadata": {},
     "output_type": "execute_result"
    }
   ],
   "source": [
    "pred1"
   ]
  },
  {
   "cell_type": "code",
   "execution_count": 334,
   "metadata": {},
   "outputs": [
    {
     "data": {
      "text/plain": [
       "array([0.53965082, 0.53965082, 0.53965082, 0.53965082, 0.53965082,\n",
       "       0.53965082, 0.53965082, 0.53965082, 0.53965082, 0.53965082,\n",
       "       0.53965082, 0.53965082, 0.53965082, 0.53965082, 0.53965082,\n",
       "       0.53965082, 0.53965082, 0.53965082, 0.53965082, 0.53965082,\n",
       "       0.53965082, 0.53965082, 0.53965082, 0.53965082, 0.53965082,\n",
       "       0.53965082, 0.53965082, 0.53965082, 0.53965082, 0.53965082,\n",
       "       0.53965082, 0.53965082, 0.53965082, 0.53965082, 0.53965082,\n",
       "       0.53965082, 0.53965082, 0.53965082, 0.53965082, 0.53965082,\n",
       "       0.53965082, 0.53965082, 0.53965082, 0.53965082, 0.53965082,\n",
       "       0.53965082, 0.53965082, 0.53965082, 0.53965082, 0.53965082,\n",
       "       0.53965082])"
      ]
     },
     "execution_count": 334,
     "metadata": {},
     "output_type": "execute_result"
    }
   ],
   "source": [
    "pred2"
   ]
  },
  {
   "cell_type": "code",
   "execution_count": null,
   "metadata": {},
   "outputs": [],
   "source": []
  },
  {
   "cell_type": "code",
   "execution_count": 335,
   "metadata": {},
   "outputs": [
    {
     "name": "stdout",
     "output_type": "stream",
     "text": [
      "[-0.023, nan, nan, -0.169, -0.186, 0.006, -0.068, -0.159]\n"
     ]
    },
    {
     "name": "stderr",
     "output_type": "stream",
     "text": [
      "/home/ruidong/anaconda3/lib/python3.6/site-packages/numpy/lib/function_base.py:3183: RuntimeWarning: invalid value encountered in true_divide\n",
      "  c /= stddev[:, None]\n",
      "/home/ruidong/anaconda3/lib/python3.6/site-packages/numpy/lib/function_base.py:3184: RuntimeWarning: invalid value encountered in true_divide\n",
      "  c /= stddev[None, :]\n"
     ]
    }
   ],
   "source": [
    "cor = []\n",
    "\n",
    "for y in [pred1, pred2, pred3, pred4, pred5, pred6, pred7, pred8]:\n",
    "    cor.append(round(np.corrcoef(x=x, y=y)[0][1],3))\n",
    "    \n",
    "print (cor)"
   ]
  },
  {
   "cell_type": "code",
   "execution_count": 336,
   "metadata": {},
   "outputs": [
    {
     "data": {
      "text/plain": [
       "['-0.023', 'nan', 'nan', '-0.169', '-0.186', '0.006', '-0.068', '-0.159']"
      ]
     },
     "execution_count": 336,
     "metadata": {},
     "output_type": "execute_result"
    }
   ],
   "source": [
    "cor = list(map(str, cor))\n",
    "cor"
   ]
  },
  {
   "cell_type": "code",
   "execution_count": null,
   "metadata": {},
   "outputs": [],
   "source": []
  },
  {
   "cell_type": "code",
   "execution_count": 337,
   "metadata": {},
   "outputs": [
    {
     "data": {
      "text/plain": [
       "[<matplotlib.lines.Line2D at 0x7ff5647a1710>]"
      ]
     },
     "execution_count": 337,
     "metadata": {},
     "output_type": "execute_result"
    },
    {
     "data": {
      "image/png": "[encoded data removed]",
      "text/plain": [
       "<Figure size 1440x720 with 8 Axes>"
      ]
     },
     "metadata": {},
     "output_type": "display_data"
    }
   ],
   "source": [
    "\n",
    "x = test_phe['days_to_bcr']\n",
    "\n",
    "plt.figure(figsize=(20,10))\n",
    "\n",
    "###\n",
    "plt.subplot(2, 4, 1)\n",
    "plt.scatter(x=x, y=pred1, color='limegreen')\n",
    "plt.title('Ridge' + ' (R2= ' + cor[0] + ')')\n",
    "plt.xlabel('Raw')\n",
    "plt.ylabel('Predicted')\n",
    "\n",
    "z = np.polyfit(x, pred1, 1)\n",
    "p = np.poly1d(z)\n",
    "plt.plot(x,p(x), 'b', color='red') # r--\n",
    "\n",
    "###\n",
    "plt.subplot(2, 4, 2)\n",
    "plt.scatter(x=x, y=pred2, color='limegreen')\n",
    "plt.title('Lasso' + ' (R2= ' + cor[1] + ')')\n",
    "plt.xlabel('Raw')\n",
    "plt.ylabel('Predicted')\n",
    "\n",
    "z = np.polyfit(x, pred2, 1)\n",
    "p = np.poly1d(z)\n",
    "plt.plot(x,p(x), 'b', color='red') # r--\n",
    "\n",
    "\n",
    "###\n",
    "plt.subplot(2, 4, 3)\n",
    "plt.scatter(x=x, y=pred3, color='limegreen')\n",
    "plt.title('Elastic Net' + ' (R2= ' + cor[2] + ')')\n",
    "plt.xlabel('Raw')\n",
    "plt.ylabel('Predicted')\n",
    "\n",
    "z = np.polyfit(x, pred3, 1)\n",
    "p = np.poly1d(z)\n",
    "plt.plot(x,p(x), 'b', color='red') # r--\n",
    "\n",
    "\n",
    "###\n",
    "plt.subplot(2, 4, 4)\n",
    "plt.scatter(x=x, y=pred4, color='limegreen')\n",
    "plt.title('Decision Tree' + ' (R2= ' + cor[3] + ')')\n",
    "plt.xlabel('Raw')\n",
    "plt.ylabel('Predicted')\n",
    "\n",
    "z = np.polyfit(x, pred4, 1)\n",
    "p = np.poly1d(z)\n",
    "plt.plot(x,p(x), 'b', color='red') # r--\n",
    "\n",
    "\n",
    "###\n",
    "plt.subplot(2, 4, 5)\n",
    "plt.scatter(x=x, y=pred5, color='limegreen')\n",
    "plt.title('Random Forest' + ' (R2= ' + cor[4] + ')')\n",
    "plt.xlabel('Raw')\n",
    "plt.ylabel('Predicted')\n",
    "\n",
    "z = np.polyfit(x, pred5, 1)\n",
    "p = np.poly1d(z)\n",
    "plt.plot(x,p(x), 'b', color='red') # r--\n",
    "\n",
    "\n",
    "###\n",
    "plt.subplot(2, 4, 6)\n",
    "plt.scatter(x=x, y=pred6, color='limegreen')\n",
    "plt.title('SVM-Linear' + ' (R2= ' + cor[5] + ')')\n",
    "plt.xlabel('Raw')\n",
    "plt.ylabel('Predicted')\n",
    "\n",
    "z = np.polyfit(x, pred6, 1)\n",
    "p = np.poly1d(z)\n",
    "plt.plot(x,p(x), 'b', color='red') # r--\n",
    "\n",
    "\n",
    "###\n",
    "plt.subplot(2, 4, 7)\n",
    "plt.scatter(x=x, y=pred7, color='limegreen')\n",
    "plt.title('SVM-Poly' + ' (R2= ' + cor[6] + ')')\n",
    "plt.xlabel('Raw')\n",
    "plt.ylabel('Predicted')\n",
    "\n",
    "z = np.polyfit(x, pred7, 1)\n",
    "p = np.poly1d(z)\n",
    "plt.plot(x,p(x), 'b', color='red') # r--\n",
    "\n",
    "\n",
    "\n",
    "###\n",
    "plt.subplot(2, 4, 8)\n",
    "plt.scatter(x=x, y=pred8, color='limegreen')\n",
    "plt.title('SVM-RBF' + ' (R2= ' + cor[7] + ')')\n",
    "plt.xlabel('Raw')\n",
    "plt.ylabel('Predicted')\n",
    "\n",
    "z = np.polyfit(x, pred8, 1)\n",
    "p = np.poly1d(z)\n",
    "plt.plot(x,p(x), 'b', color='red') # r--\n",
    "\n"
   ]
  },
  {
   "cell_type": "code",
   "execution_count": null,
   "metadata": {},
   "outputs": [],
   "source": []
  },
  {
   "cell_type": "code",
   "execution_count": null,
   "metadata": {},
   "outputs": [],
   "source": [
    "********************************************************************************************************"
   ]
  },
  {
   "cell_type": "code",
   "execution_count": null,
   "metadata": {},
   "outputs": [],
   "source": []
  },
  {
   "cell_type": "code",
   "execution_count": null,
   "metadata": {},
   "outputs": [],
   "source": []
  },
  {
   "cell_type": "code",
   "execution_count": 338,
   "metadata": {},
   "outputs": [
    {
     "name": "stderr",
     "output_type": "stream",
     "text": [
      "/home/ruidong/anaconda3/lib/python3.6/site-packages/sklearn/linear_model/stochastic_gradient.py:128: FutureWarning: max_iter and tol parameters have been added in <class 'sklearn.linear_model.stochastic_gradient.SGDClassifier'> in 0.19. If both are left unset, they default to max_iter=5 and tol=None. If tol is not None, max_iter defaults to max_iter=1000. From 0.21, default max_iter will be 1000, and default tol will be 1e-3.\n",
      "  \"and default tol will be 1e-3.\" % type(self), FutureWarning)\n"
     ]
    },
    {
     "data": {
      "text/plain": [
       "SGDClassifier(alpha=0.0001, average=False, class_weight=None, epsilon=0.1,\n",
       "       eta0=0.0, fit_intercept=True, l1_ratio=0.15,\n",
       "       learning_rate='optimal', loss='hinge', max_iter=None, n_iter=None,\n",
       "       n_jobs=1, penalty='l2', power_t=0.5, random_state=36, shuffle=True,\n",
       "       tol=None, verbose=0, warm_start=False)"
      ]
     },
     "execution_count": 338,
     "metadata": {},
     "output_type": "execute_result"
    }
   ],
   "source": [
    "from sklearn.linear_model import SGDClassifier\n",
    "\n",
    "clf = SGDClassifier(random_state=36)\n",
    "\n",
    "clf.fit(train_rna, train_phe['bcr_status'])"
   ]
  },
  {
   "cell_type": "code",
   "execution_count": 339,
   "metadata": {},
   "outputs": [
    {
     "data": {
      "text/plain": [
       "array([0, 1, 0, 0, 0, 0, 1, 0, 1, 1, 1, 1, 1, 1, 1, 0, 1, 1, 0, 0, 1, 0,\n",
       "       0, 1, 0, 1, 0, 0, 1, 1, 1, 1, 0, 0, 0, 0, 0, 0, 0, 0, 1, 1, 1, 0,\n",
       "       0, 0, 0, 0, 0, 0, 0])"
      ]
     },
     "execution_count": 339,
     "metadata": {},
     "output_type": "execute_result"
    }
   ],
   "source": [
    "clf.predict(test_rna)"
   ]
  },
  {
   "cell_type": "code",
   "execution_count": null,
   "metadata": {},
   "outputs": [],
   "source": []
  },
  {
   "cell_type": "code",
   "execution_count": 340,
   "metadata": {},
   "outputs": [
    {
     "data": {
      "text/plain": [
       "array([0, 1, 0, 0, 1, 0, 1, 0, 1, 1, 1, 1, 1, 1, 0, 0, 1, 1, 0, 1, 1, 0,\n",
       "       0, 0, 0, 0, 0, 1, 1, 1, 1, 1, 0, 0, 0, 1, 1, 0, 0, 0, 0, 1, 0, 0,\n",
       "       0, 1, 0, 0, 0, 1, 0])"
      ]
     },
     "execution_count": 340,
     "metadata": {},
     "output_type": "execute_result"
    }
   ],
   "source": [
    "test_phe['bcr_status'].values"
   ]
  },
  {
   "cell_type": "code",
   "execution_count": 341,
   "metadata": {},
   "outputs": [
    {
     "data": {
      "text/plain": [
       "array([ -4168.76431541,   1735.30507972,  -6608.70963006,  -2748.15786254,\n",
       "        -4391.6120146 ,  -3072.84394648,   2942.74007006,  -2431.85168727,\n",
       "         1613.68958206,   3540.12047581,   2957.57082834,   6944.95693698,\n",
       "          317.94568635,   4783.91817245,   1240.94747413,  -1982.11631195,\n",
       "         1984.45605512,   4940.57257742,  -2444.52767455,  -6518.73108567,\n",
       "         2110.55225612,  -2170.58358542,  -4926.8654381 ,   1689.78356621,\n",
       "        -5154.8258624 ,   2753.79410105,  -8992.82637175,  -1044.46144387,\n",
       "         2862.70193009,  12371.97007456,   1865.01444102,  10259.07391798,\n",
       "        -1777.19575521,  -2711.31564535,  -2818.79265097,  -1077.51782563,\n",
       "        -2691.32360758,  -4913.45959015,  -5653.73173798,  -7509.00234626,\n",
       "          340.58265787,   6815.76665755,   6641.04137255,  -4932.86510064,\n",
       "        -7017.97161476,   -698.18375609,   -646.11826119,  -8895.44264403,\n",
       "        -6002.22551924,  -5556.38048148, -10294.76541289])"
      ]
     },
     "execution_count": 341,
     "metadata": {},
     "output_type": "execute_result"
    }
   ],
   "source": [
    "y_scores = clf.decision_function(test_rna)\n",
    "y_scores"
   ]
  },
  {
   "cell_type": "code",
   "execution_count": 342,
   "metadata": {},
   "outputs": [
    {
     "data": {
      "text/plain": [
       "0.831"
      ]
     },
     "execution_count": 342,
     "metadata": {},
     "output_type": "execute_result"
    }
   ],
   "source": [
    "from sklearn.metrics import roc_curve\n",
    "\n",
    "fpr, tpr, thresholds = roc_curve(test_phe['bcr_status'], y_scores)\n",
    "\n",
    "from sklearn.metrics import roc_auc_score\n",
    "auc = round(roc_auc_score(test_phe['bcr_status'], y_scores),3)\n",
    "auc"
   ]
  },
  {
   "cell_type": "code",
   "execution_count": 343,
   "metadata": {},
   "outputs": [
    {
     "data": {
      "text/plain": [
       "array([0.        , 0.        , 0.03571429, 0.03571429, 0.07142857,\n",
       "       0.07142857, 0.10714286, 0.10714286, 0.17857143, 0.17857143,\n",
       "       0.21428571, 0.21428571, 0.39285714, 0.39285714, 0.57142857,\n",
       "       0.57142857, 0.71428571, 0.71428571, 0.78571429, 0.78571429,\n",
       "       1.        ])"
      ]
     },
     "execution_count": 343,
     "metadata": {},
     "output_type": "execute_result"
    }
   ],
   "source": [
    "fpr"
   ]
  },
  {
   "cell_type": "code",
   "execution_count": 344,
   "metadata": {},
   "outputs": [
    {
     "data": {
      "text/plain": [
       "array([0.04347826, 0.17391304, 0.17391304, 0.43478261, 0.43478261,\n",
       "       0.60869565, 0.60869565, 0.65217391, 0.65217391, 0.69565217,\n",
       "       0.69565217, 0.82608696, 0.82608696, 0.86956522, 0.86956522,\n",
       "       0.91304348, 0.91304348, 0.95652174, 0.95652174, 1.        ,\n",
       "       1.        ])"
      ]
     },
     "execution_count": 344,
     "metadata": {},
     "output_type": "execute_result"
    }
   ],
   "source": [
    "tpr"
   ]
  },
  {
   "cell_type": "code",
   "execution_count": 345,
   "metadata": {},
   "outputs": [
    {
     "data": {
      "text/plain": [
       "array([ 12371.97007456,   6815.76665755,   6641.04137255,   2862.70193009,\n",
       "         2753.79410105,   1735.30507972,   1689.78356621,   1613.68958206,\n",
       "          340.58265787,    317.94568635,   -646.11826119,  -1077.51782563,\n",
       "        -2444.52767455,  -2691.32360758,  -4168.76431541,  -4391.6120146 ,\n",
       "        -5154.8258624 ,  -5556.38048148,  -6002.22551924,  -6518.73108567,\n",
       "       -10294.76541289])"
      ]
     },
     "execution_count": 345,
     "metadata": {},
     "output_type": "execute_result"
    }
   ],
   "source": [
    "thresholds"
   ]
  },
  {
   "cell_type": "code",
   "execution_count": null,
   "metadata": {},
   "outputs": [],
   "source": []
  },
  {
   "cell_type": "code",
   "execution_count": 356,
   "metadata": {},
   "outputs": [],
   "source": [
    "def plot_roc_curve(fpr, tpr, label=None, title=None):\n",
    "    plt.plot(fpr, tpr, linewidth=2, label=label, color='red')\n",
    "    plt.plot([0,1],[0,1], 'k--')\n",
    "    plt.axis([0,1,0,1])\n",
    "    plt.xlabel('False Positive Rate (1-Specificity)')\n",
    "    plt.ylabel('True Positive Rate (Sensitivity)')\n",
    "    plt.title(title)"
   ]
  },
  {
   "cell_type": "code",
   "execution_count": null,
   "metadata": {},
   "outputs": [],
   "source": []
  },
  {
   "cell_type": "code",
   "execution_count": null,
   "metadata": {},
   "outputs": [],
   "source": []
  },
  {
   "cell_type": "code",
   "execution_count": 357,
   "metadata": {},
   "outputs": [
    {
     "data": {
      "image/png": "[encoded data removed]",
      "text/plain": [
       "<Figure size 432x288 with 1 Axes>"
      ]
     },
     "metadata": {},
     "output_type": "display_data"
    }
   ],
   "source": [
    "plot_roc_curve(fpr, tpr, title='SGDClassifier (AUC = ' + str(auc) + ')')\n",
    "plt.show()"
   ]
  },
  {
   "cell_type": "code",
   "execution_count": null,
   "metadata": {},
   "outputs": [],
   "source": []
  },
  {
   "cell_type": "code",
   "execution_count": null,
   "metadata": {},
   "outputs": [],
   "source": []
  },
  {
   "cell_type": "code",
   "execution_count": null,
   "metadata": {},
   "outputs": [],
   "source": []
  },
  {
   "cell_type": "code",
   "execution_count": 348,
   "metadata": {},
   "outputs": [
    {
     "name": "stderr",
     "output_type": "stream",
     "text": [
      "/home/ruidong/anaconda3/lib/python3.6/site-packages/sklearn/linear_model/stochastic_gradient.py:128: FutureWarning: max_iter and tol parameters have been added in <class 'sklearn.linear_model.stochastic_gradient.SGDClassifier'> in 0.19. If both are left unset, they default to max_iter=5 and tol=None. If tol is not None, max_iter defaults to max_iter=1000. From 0.21, default max_iter will be 1000, and default tol will be 1e-3.\n",
      "  \"and default tol will be 1e-3.\" % type(self), FutureWarning)\n"
     ]
    }
   ],
   "source": [
    "from sklearn.linear_model import SGDClassifier\n",
    "\n",
    "from sklearn.linear_model import LogisticRegression\n",
    "from sklearn.neighbors import KNeighborsClassifier\n",
    "\n",
    "from sklearn.tree import DecisionTreeClassifier\n",
    "from sklearn.ensemble import RandomForestClassifier\n",
    "from sklearn.svm import SVC\n",
    "\n",
    "#reg = LinearRegression()\n",
    "reg1 = SGDClassifier(random_state=36)\n",
    "reg2 = LogisticRegression()\n",
    "reg3 = KNeighborsClassifier()\n",
    "\n",
    "reg4 = DecisionTreeClassifier()\n",
    "reg5 = RandomForestClassifier()\n",
    "\n",
    "reg6 = SVC(kernel='linear')\n",
    "reg7 = SVC(kernel='poly')\n",
    "reg8 = SVC(kernel='rbf')\n",
    "\n",
    "\n",
    "for reg in [reg1, reg2, reg3, reg4, reg5, reg6, reg7, reg8]:\n",
    "    reg.fit(train_rna, train_phe['bcr_status'])\n",
    "\n",
    "\n",
    "#reg1.fit(train_rna, train_phe['days_to_bcr'])\n",
    "#reg2.fit(train_rna, train_phe['days_to_bcr'])\n",
    "#reg3.fit(train_rna, train_phe['days_to_bcr'])\n",
    "#reg4.fit(train_rna, train_phe['days_to_bcr'])\n",
    "#reg5.fit(train_rna, train_phe['days_to_bcr'])\n",
    "#reg6.fit(train_rna, train_phe['days_to_bcr'])\n",
    "#reg7.fit(train_rna, train_phe['days_to_bcr'])\n",
    "#reg8.fit(train_rna, train_phe['days_to_bcr'])"
   ]
  },
  {
   "cell_type": "code",
   "execution_count": 349,
   "metadata": {},
   "outputs": [],
   "source": [
    "pred1 = reg1.predict(test_rna)\n",
    "pred2 = reg2.predict(test_rna)\n",
    "pred3 = reg3.predict(test_rna)\n",
    "pred4 = reg4.predict(test_rna)\n",
    "\n",
    "pred5 = reg5.predict(test_rna)\n",
    "pred6 = reg6.predict(test_rna)\n",
    "pred7 = reg7.predict(test_rna)\n",
    "pred8 = reg8.predict(test_rna)"
   ]
  },
  {
   "cell_type": "code",
   "execution_count": 350,
   "metadata": {},
   "outputs": [
    {
     "data": {
      "text/plain": [
       "array([0, 0, 0, 0, 0, 0, 1, 0, 1, 1, 1, 1, 0, 1, 0, 0, 0, 1, 0, 0, 0, 0,\n",
       "       0, 0, 0, 1, 0, 0, 1, 1, 0, 1, 0, 0, 0, 0, 0, 0, 0, 0, 1, 1, 1, 0,\n",
       "       0, 0, 0, 0, 0, 0, 0])"
      ]
     },
     "execution_count": 350,
     "metadata": {},
     "output_type": "execute_result"
    }
   ],
   "source": [
    "pred8"
   ]
  },
  {
   "cell_type": "code",
   "execution_count": 351,
   "metadata": {},
   "outputs": [
    {
     "data": {
      "text/plain": [
       "array([0, 1, 0, 0, 1, 0, 1, 0, 1, 1, 1, 1, 1, 1, 0, 0, 1, 1, 0, 1, 1, 0,\n",
       "       0, 0, 0, 0, 0, 1, 1, 1, 1, 1, 0, 0, 0, 1, 1, 0, 0, 0, 0, 1, 0, 0,\n",
       "       0, 1, 0, 0, 0, 1, 0])"
      ]
     },
     "execution_count": 351,
     "metadata": {},
     "output_type": "execute_result"
    }
   ],
   "source": [
    "test_phe['bcr_status'].values"
   ]
  },
  {
   "cell_type": "code",
   "execution_count": null,
   "metadata": {},
   "outputs": [],
   "source": []
  },
  {
   "cell_type": "code",
   "execution_count": null,
   "metadata": {},
   "outputs": [],
   "source": []
  },
  {
   "cell_type": "code",
   "execution_count": 352,
   "metadata": {},
   "outputs": [],
   "source": [
    "y_scores1 = reg1.decision_function(test_rna)\n",
    "y_scores2 = reg2.decision_function(test_rna)\n",
    "\n",
    "y_scores3 = reg3.predict_proba(test_rna)\n",
    "y_scores3 = y_scores3[:,1]\n",
    "\n",
    "y_scores4 = reg4.predict_proba(test_rna)\n",
    "y_scores4 = y_scores4[:,1]\n",
    "\n",
    "y_scores5 = reg5.predict_proba(test_rna)\n",
    "y_scores5 = y_scores5[:,1]\n",
    "\n",
    "y_scores6 = reg6.decision_function(test_rna)\n",
    "\n",
    "y_scores7 = reg7.decision_function(test_rna)\n",
    "y_scores8 = reg8.decision_function(test_rna)\n"
   ]
  },
  {
   "cell_type": "code",
   "execution_count": 353,
   "metadata": {},
   "outputs": [],
   "source": [
    "from sklearn.metrics import roc_curve\n",
    "\n",
    "fpr1, tpr1, thresholds1 = roc_curve(test_phe['bcr_status'], y_scores1)\n",
    "fpr2, tpr2, thresholds2 = roc_curve(test_phe['bcr_status'], y_scores2)\n",
    "\n",
    "fpr3, tpr3, thresholds3 = roc_curve(test_phe['bcr_status'], y_scores3)\n",
    "fpr4, tpr4, thresholds4 = roc_curve(test_phe['bcr_status'], y_scores4)\n",
    "fpr5, tpr5, thresholds5 = roc_curve(test_phe['bcr_status'], y_scores5)\n",
    "\n",
    "fpr6, tpr6, thresholds6 = roc_curve(test_phe['bcr_status'], y_scores6)\n",
    "fpr7, tpr7, thresholds7 = roc_curve(test_phe['bcr_status'], y_scores7)\n",
    "fpr8, tpr8, thresholds8 = roc_curve(test_phe['bcr_status'], y_scores8)\n",
    "\n",
    "\n",
    "from sklearn.metrics import roc_auc_score\n",
    "auc1 = round(roc_auc_score(test_phe['bcr_status'], y_scores1),3)\n",
    "auc2 = round(roc_auc_score(test_phe['bcr_status'], y_scores2),3)\n",
    "\n",
    "auc3 = round(roc_auc_score(test_phe['bcr_status'], y_scores3),3)\n",
    "auc4 = round(roc_auc_score(test_phe['bcr_status'], y_scores4),3)\n",
    "auc5 = round(roc_auc_score(test_phe['bcr_status'], y_scores5),3)\n",
    "\n",
    "auc6 = round(roc_auc_score(test_phe['bcr_status'], y_scores6),3)\n",
    "auc7 = round(roc_auc_score(test_phe['bcr_status'], y_scores7),3)\n",
    "auc8 = round(roc_auc_score(test_phe['bcr_status'], y_scores8),3)"
   ]
  },
  {
   "cell_type": "code",
   "execution_count": null,
   "metadata": {},
   "outputs": [],
   "source": []
  },
  {
   "cell_type": "code",
   "execution_count": null,
   "metadata": {},
   "outputs": [],
   "source": []
  },
  {
   "cell_type": "code",
   "execution_count": 358,
   "metadata": {},
   "outputs": [
    {
     "data": {
      "image/png": "[encoded data removed]",
      "text/plain": [
       "<Figure size 1440x720 with 8 Axes>"
      ]
     },
     "metadata": {},
     "output_type": "display_data"
    }
   ],
   "source": [
    "\n",
    "plt.figure(figsize=(20,10))\n",
    "\n",
    "###\n",
    "plt.subplot(2, 4, 1)\n",
    "plot_roc_curve(fpr1, tpr1, title='SGDClassifier (AUC = ' + str(auc1) + ')')\n",
    "\n",
    "plt.subplot(2, 4, 2)\n",
    "plot_roc_curve(fpr2, tpr2, title='LogisticRegression (AUC = ' + str(auc2) + ')')\n",
    "\n",
    "plt.subplot(2, 4, 3)\n",
    "plot_roc_curve(fpr3, tpr3, title='KNeighborsClassifier (AUC = ' + str(auc3) + ')')\n",
    "\n",
    "plt.subplot(2, 4, 4)\n",
    "plot_roc_curve(fpr4, tpr4, title='DecisionTreeClassifier (AUC = ' + str(auc4) + ')')\n",
    "\n",
    "plt.subplot(2, 4, 5)\n",
    "plot_roc_curve(fpr5, tpr5, title='RandomForestClassifier (AUC = ' + str(auc5) + ')')\n",
    "\n",
    "plt.subplot(2, 4, 6)\n",
    "plot_roc_curve(fpr6, tpr6, title='SVM-Linear (AUC = ' + str(auc6) + ')')\n",
    "\n",
    "plt.subplot(2, 4, 7)\n",
    "plot_roc_curve(fpr7, tpr7, title='SVM-Poly (AUC = ' + str(auc7) + ')')\n",
    "\n",
    "plt.subplot(2, 4, 8)\n",
    "plot_roc_curve(fpr8, tpr8, title='SVM-RBF (AUC = ' + str(auc8) + ')')\n",
    "\n",
    "\n",
    "plt.show()\n"
   ]
  },
  {
   "cell_type": "code",
   "execution_count": null,
   "metadata": {},
   "outputs": [],
   "source": []
  }
 ],
 "metadata": {
  "kernelspec": {
   "display_name": "Python 3",
   "language": "python",
   "name": "python3"
  },
  "language_info": {
   "codemirror_mode": {
    "name": "ipython",
    "version": 3
   },
   "file_extension": ".py",
   "mimetype": "text/x-python",
   "name": "python",
   "nbconvert_exporter": "python",
   "pygments_lexer": "ipython3",
   "version": "3.6.5"
  }
 },
 "nbformat": 4,
 "nbformat_minor": 1
}
