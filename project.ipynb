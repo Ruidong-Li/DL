{
 "cells": [
  {
   "cell_type": "code",
   "execution_count": 1,
   "metadata": {
    "collapsed": true
   },
   "outputs": [],
   "source": [
    "import pandas as pd\n"
   ]
  },
  {
   "cell_type": "code",
   "execution_count": null,
   "metadata": {
    "collapsed": true
   },
   "outputs": [],
   "source": []
  },
  {
   "cell_type": "code",
   "execution_count": 2,
   "metadata": {
    "collapsed": false
   },
   "outputs": [
    {
     "data": {
      "text/html": [
       "<div>\n",
       "<table border=\"1\" class=\"dataframe\">\n",
       "  <thead>\n",
       "    <tr style=\"text-align: right;\">\n",
       "      <th></th>\n",
       "      <th>days_to_bcr</th>\n",
       "      <th>bcr_status</th>\n",
       "    </tr>\n",
       "  </thead>\n",
       "  <tbody>\n",
       "    <tr>\n",
       "      <th>TCGA-2A-A8W3-01</th>\n",
       "      <td>0.108493</td>\n",
       "      <td>0</td>\n",
       "    </tr>\n",
       "    <tr>\n",
       "      <th>TCGA-CH-5788-01</th>\n",
       "      <td>0.430685</td>\n",
       "      <td>0</td>\n",
       "    </tr>\n",
       "    <tr>\n",
       "      <th>TCGA-EJ-5504-01</th>\n",
       "      <td>0.042192</td>\n",
       "      <td>0</td>\n",
       "    </tr>\n",
       "    <tr>\n",
       "      <th>TCGA-EJ-5508-01</th>\n",
       "      <td>1.000000</td>\n",
       "      <td>1</td>\n",
       "    </tr>\n",
       "    <tr>\n",
       "      <th>TCGA-EJ-5510-01</th>\n",
       "      <td>1.000000</td>\n",
       "      <td>1</td>\n",
       "    </tr>\n",
       "  </tbody>\n",
       "</table>\n",
       "</div>"
      ],
      "text/plain": [
       "                 days_to_bcr  bcr_status\n",
       "TCGA-2A-A8W3-01     0.108493           0\n",
       "TCGA-CH-5788-01     0.430685           0\n",
       "TCGA-EJ-5504-01     0.042192           0\n",
       "TCGA-EJ-5508-01     1.000000           1\n",
       "TCGA-EJ-5510-01     1.000000           1"
      ]
     },
     "execution_count": 2,
     "metadata": {},
     "output_type": "execute_result"
    }
   ],
   "source": [
    "phe = pd.read_csv('phe153.csv', index_col=0)\n",
    "phe.head()"
   ]
  },
  {
   "cell_type": "code",
   "execution_count": null,
   "metadata": {
    "collapsed": true
   },
   "outputs": [],
   "source": []
  },
  {
   "cell_type": "code",
   "execution_count": 3,
   "metadata": {
    "collapsed": false
   },
   "outputs": [
    {
     "data": {
      "text/html": [
       "<div>\n",
       "<table border=\"1\" class=\"dataframe\">\n",
       "  <thead>\n",
       "    <tr style=\"text-align: right;\">\n",
       "      <th></th>\n",
       "      <th>ENSG00000000003</th>\n",
       "      <th>ENSG00000000419</th>\n",
       "      <th>ENSG00000000457</th>\n",
       "    </tr>\n",
       "  </thead>\n",
       "  <tbody>\n",
       "    <tr>\n",
       "      <th>TCGA-2A-A8W3-01</th>\n",
       "      <td>4.866321</td>\n",
       "      <td>4.847948</td>\n",
       "      <td>3.942577</td>\n",
       "    </tr>\n",
       "    <tr>\n",
       "      <th>TCGA-CH-5788-01</th>\n",
       "      <td>6.312406</td>\n",
       "      <td>4.654767</td>\n",
       "      <td>4.099412</td>\n",
       "    </tr>\n",
       "    <tr>\n",
       "      <th>TCGA-EJ-5504-01</th>\n",
       "      <td>6.533654</td>\n",
       "      <td>4.600528</td>\n",
       "      <td>4.405754</td>\n",
       "    </tr>\n",
       "    <tr>\n",
       "      <th>TCGA-EJ-5508-01</th>\n",
       "      <td>6.128060</td>\n",
       "      <td>4.665022</td>\n",
       "      <td>4.872938</td>\n",
       "    </tr>\n",
       "    <tr>\n",
       "      <th>TCGA-EJ-5510-01</th>\n",
       "      <td>6.242000</td>\n",
       "      <td>4.519519</td>\n",
       "      <td>4.300672</td>\n",
       "    </tr>\n",
       "  </tbody>\n",
       "</table>\n",
       "</div>"
      ],
      "text/plain": [
       "                 ENSG00000000003  ENSG00000000419  ENSG00000000457\n",
       "TCGA-2A-A8W3-01         4.866321         4.847948         3.942577\n",
       "TCGA-CH-5788-01         6.312406         4.654767         4.099412\n",
       "TCGA-EJ-5504-01         6.533654         4.600528         4.405754\n",
       "TCGA-EJ-5508-01         6.128060         4.665022         4.872938\n",
       "TCGA-EJ-5510-01         6.242000         4.519519         4.300672"
      ]
     },
     "execution_count": 3,
     "metadata": {},
     "output_type": "execute_result"
    }
   ],
   "source": [
    "rna = pd.read_csv('rna153.csv', index_col=0)\n",
    "rna = rna.T\n",
    "rna.iloc[0:5:,0:3]"
   ]
  },
  {
   "cell_type": "code",
   "execution_count": 4,
   "metadata": {
    "collapsed": false
   },
   "outputs": [
    {
     "data": {
      "text/plain": [
       "(153, 15536)"
      ]
     },
     "execution_count": 4,
     "metadata": {},
     "output_type": "execute_result"
    }
   ],
   "source": [
    "rna.shape"
   ]
  },
  {
   "cell_type": "code",
   "execution_count": null,
   "metadata": {
    "collapsed": true
   },
   "outputs": [],
   "source": []
  },
  {
   "cell_type": "code",
   "execution_count": 5,
   "metadata": {
    "collapsed": false
   },
   "outputs": [
    {
     "name": "stdout",
     "output_type": "stream",
     "text": [
      "<class 'pandas.core.frame.DataFrame'>\n",
      "Index: 153 entries, TCGA-2A-A8W3-01 to TCGA-ZG-A9LZ-01\n",
      "Columns: 15536 entries, ENSG00000000003 to ENSG00000204296\n",
      "dtypes: float64(15536)\n",
      "memory usage: 18.1+ MB\n"
     ]
    }
   ],
   "source": [
    "rna.info()"
   ]
  },
  {
   "cell_type": "code",
   "execution_count": 6,
   "metadata": {
    "collapsed": false
   },
   "outputs": [
    {
     "data": {
      "text/html": [
       "<div>\n",
       "<table border=\"1\" class=\"dataframe\">\n",
       "  <thead>\n",
       "    <tr style=\"text-align: right;\">\n",
       "      <th></th>\n",
       "      <th>ENSG00000000003</th>\n",
       "      <th>ENSG00000000419</th>\n",
       "      <th>ENSG00000000457</th>\n",
       "      <th>ENSG00000000460</th>\n",
       "      <th>ENSG00000000938</th>\n",
       "      <th>ENSG00000000971</th>\n",
       "    </tr>\n",
       "  </thead>\n",
       "  <tbody>\n",
       "    <tr>\n",
       "      <th>count</th>\n",
       "      <td>153.000000</td>\n",
       "      <td>153.000000</td>\n",
       "      <td>153.000000</td>\n",
       "      <td>153.000000</td>\n",
       "      <td>153.000000</td>\n",
       "      <td>153.000000</td>\n",
       "    </tr>\n",
       "    <tr>\n",
       "      <th>mean</th>\n",
       "      <td>5.843543</td>\n",
       "      <td>4.681327</td>\n",
       "      <td>4.157550</td>\n",
       "      <td>1.891002</td>\n",
       "      <td>2.139617</td>\n",
       "      <td>4.015591</td>\n",
       "    </tr>\n",
       "    <tr>\n",
       "      <th>std</th>\n",
       "      <td>0.569607</td>\n",
       "      <td>0.310580</td>\n",
       "      <td>0.498059</td>\n",
       "      <td>0.496905</td>\n",
       "      <td>0.904835</td>\n",
       "      <td>1.069145</td>\n",
       "    </tr>\n",
       "    <tr>\n",
       "      <th>min</th>\n",
       "      <td>2.915246</td>\n",
       "      <td>3.490407</td>\n",
       "      <td>3.043361</td>\n",
       "      <td>0.266642</td>\n",
       "      <td>-0.460337</td>\n",
       "      <td>1.405213</td>\n",
       "    </tr>\n",
       "    <tr>\n",
       "      <th>25%</th>\n",
       "      <td>5.515916</td>\n",
       "      <td>4.540176</td>\n",
       "      <td>3.848762</td>\n",
       "      <td>1.542936</td>\n",
       "      <td>1.668871</td>\n",
       "      <td>3.181833</td>\n",
       "    </tr>\n",
       "    <tr>\n",
       "      <th>50%</th>\n",
       "      <td>5.860118</td>\n",
       "      <td>4.709836</td>\n",
       "      <td>4.153590</td>\n",
       "      <td>1.916693</td>\n",
       "      <td>2.095957</td>\n",
       "      <td>4.123162</td>\n",
       "    </tr>\n",
       "    <tr>\n",
       "      <th>75%</th>\n",
       "      <td>6.193381</td>\n",
       "      <td>4.847948</td>\n",
       "      <td>4.470443</td>\n",
       "      <td>2.213119</td>\n",
       "      <td>2.752876</td>\n",
       "      <td>4.718844</td>\n",
       "    </tr>\n",
       "    <tr>\n",
       "      <th>max</th>\n",
       "      <td>7.661269</td>\n",
       "      <td>5.754718</td>\n",
       "      <td>5.477418</td>\n",
       "      <td>3.207159</td>\n",
       "      <td>5.223149</td>\n",
       "      <td>6.639338</td>\n",
       "    </tr>\n",
       "  </tbody>\n",
       "</table>\n",
       "</div>"
      ],
      "text/plain": [
       "       ENSG00000000003  ENSG00000000419  ENSG00000000457  ENSG00000000460  \\\n",
       "count       153.000000       153.000000       153.000000       153.000000   \n",
       "mean          5.843543         4.681327         4.157550         1.891002   \n",
       "std           0.569607         0.310580         0.498059         0.496905   \n",
       "min           2.915246         3.490407         3.043361         0.266642   \n",
       "25%           5.515916         4.540176         3.848762         1.542936   \n",
       "50%           5.860118         4.709836         4.153590         1.916693   \n",
       "75%           6.193381         4.847948         4.470443         2.213119   \n",
       "max           7.661269         5.754718         5.477418         3.207159   \n",
       "\n",
       "       ENSG00000000938  ENSG00000000971  \n",
       "count       153.000000       153.000000  \n",
       "mean          2.139617         4.015591  \n",
       "std           0.904835         1.069145  \n",
       "min          -0.460337         1.405213  \n",
       "25%           1.668871         3.181833  \n",
       "50%           2.095957         4.123162  \n",
       "75%           2.752876         4.718844  \n",
       "max           5.223149         6.639338  "
      ]
     },
     "execution_count": 6,
     "metadata": {},
     "output_type": "execute_result"
    }
   ],
   "source": [
    "rna.iloc[:,0:6].describe()"
   ]
  },
  {
   "cell_type": "code",
   "execution_count": null,
   "metadata": {
    "collapsed": true
   },
   "outputs": [],
   "source": []
  },
  {
   "cell_type": "code",
   "execution_count": 7,
   "metadata": {
    "collapsed": false
   },
   "outputs": [
    {
     "data": {
      "image/png": "[encoded data removed]",
      "text/plain": [
       "<matplotlib.figure.Figure at 0x7fb00ad01a90>"
      ]
     },
     "metadata": {},
     "output_type": "display_data"
    }
   ],
   "source": [
    "%matplotlib inline\n",
    "\n",
    "import matplotlib.pyplot as plt\n",
    "\n",
    "rna.iloc[:,0:6].hist(bins=50, figsize=(20,15))\n",
    "\n",
    "plt.show()"
   ]
  },
  {
   "cell_type": "code",
   "execution_count": null,
   "metadata": {
    "collapsed": true
   },
   "outputs": [],
   "source": []
  },
  {
   "cell_type": "code",
   "execution_count": 8,
   "metadata": {
    "collapsed": true
   },
   "outputs": [],
   "source": [
    "rna_bcr_corr = abs(rna.corrwith(phe['days_to_bcr']))"
   ]
  },
  {
   "cell_type": "code",
   "execution_count": 9,
   "metadata": {
    "collapsed": false
   },
   "outputs": [],
   "source": [
    "rna_bcr_corr_sort = rna_bcr_corr.sort_values(ascending=False)"
   ]
  },
  {
   "cell_type": "code",
   "execution_count": 10,
   "metadata": {
    "collapsed": false
   },
   "outputs": [
    {
     "data": {
      "text/plain": [
       "ENSG00000165983    0.381159\n",
       "ENSG00000004777    0.379584\n",
       "ENSG00000061273    0.368599\n",
       "ENSG00000138942    0.364709\n",
       "ENSG00000065665    0.361833\n",
       "ENSG00000172932    0.352483\n",
       "ENSG00000076382    0.352387\n",
       "ENSG00000225855    0.350211\n",
       "ENSG00000250903    0.345276\n",
       "ENSG00000169992    0.345274\n",
       "ENSG00000101224    0.345037\n",
       "ENSG00000148384    0.344797\n",
       "ENSG00000133247    0.344294\n",
       "ENSG00000132016    0.343456\n",
       "ENSG00000106819    0.342584\n",
       "ENSG00000254815    0.341131\n",
       "ENSG00000185267    0.341115\n",
       "ENSG00000143630    0.339256\n",
       "ENSG00000149782    0.338304\n",
       "ENSG00000013810    0.335026\n",
       "ENSG00000188766    0.333855\n",
       "ENSG00000255007    0.332315\n",
       "ENSG00000168056    0.331135\n",
       "ENSG00000122678    0.330968\n",
       "ENSG00000168010    0.328510\n",
       "ENSG00000247796    0.328195\n",
       "ENSG00000139636    0.327326\n",
       "ENSG00000204248    0.324566\n",
       "ENSG00000160741    0.323947\n",
       "ENSG00000103018    0.323799\n",
       "                     ...   \n",
       "ENSG00000187123    0.000209\n",
       "ENSG00000103091    0.000209\n",
       "ENSG00000222033    0.000195\n",
       "ENSG00000109458    0.000177\n",
       "ENSG00000105738    0.000176\n",
       "ENSG00000120699    0.000176\n",
       "ENSG00000143190    0.000173\n",
       "ENSG00000213799    0.000172\n",
       "ENSG00000255561    0.000166\n",
       "ENSG00000104936    0.000159\n",
       "ENSG00000063601    0.000141\n",
       "ENSG00000176102    0.000134\n",
       "ENSG00000175283    0.000130\n",
       "ENSG00000105851    0.000124\n",
       "ENSG00000116954    0.000115\n",
       "ENSG00000157538    0.000114\n",
       "ENSG00000130119    0.000112\n",
       "ENSG00000197562    0.000105\n",
       "ENSG00000050165    0.000098\n",
       "ENSG00000198363    0.000089\n",
       "ENSG00000164535    0.000078\n",
       "ENSG00000181315    0.000075\n",
       "ENSG00000136237    0.000067\n",
       "ENSG00000084092    0.000062\n",
       "ENSG00000183621    0.000051\n",
       "ENSG00000157020    0.000030\n",
       "ENSG00000160145    0.000029\n",
       "ENSG00000183309    0.000019\n",
       "ENSG00000162869    0.000017\n",
       "ENSG00000160097    0.000010\n",
       "dtype: float64"
      ]
     },
     "execution_count": 10,
     "metadata": {},
     "output_type": "execute_result"
    }
   ],
   "source": [
    "rna_bcr_corr_sort"
   ]
  },
  {
   "cell_type": "code",
   "execution_count": 11,
   "metadata": {
    "collapsed": false
   },
   "outputs": [
    {
     "data": {
      "text/plain": [
       "pandas.core.series.Series"
      ]
     },
     "execution_count": 11,
     "metadata": {},
     "output_type": "execute_result"
    }
   ],
   "source": [
    "type(rna_bcr_corr)"
   ]
  },
  {
   "cell_type": "code",
   "execution_count": null,
   "metadata": {
    "collapsed": true
   },
   "outputs": [],
   "source": []
  },
  {
   "cell_type": "code",
   "execution_count": null,
   "metadata": {
    "collapsed": true
   },
   "outputs": [],
   "source": []
  },
  {
   "cell_type": "code",
   "execution_count": 12,
   "metadata": {
    "collapsed": false
   },
   "outputs": [
    {
     "data": {
      "text/plain": [
       "'ENSG00000165983'"
      ]
     },
     "execution_count": 12,
     "metadata": {},
     "output_type": "execute_result"
    }
   ],
   "source": [
    "gene1 = rna_bcr_corr_sort.index[0]\n",
    "gene1"
   ]
  },
  {
   "cell_type": "code",
   "execution_count": 13,
   "metadata": {
    "collapsed": false
   },
   "outputs": [],
   "source": [
    "x1 = rna[gene1]\n",
    "y1 = phe['days_to_bcr']"
   ]
  },
  {
   "cell_type": "code",
   "execution_count": 14,
   "metadata": {
    "collapsed": false
   },
   "outputs": [
    {
     "data": {
      "text/plain": [
       "'ENSG00000160097'"
      ]
     },
     "execution_count": 14,
     "metadata": {},
     "output_type": "execute_result"
    }
   ],
   "source": [
    "gene2 = rna_bcr_corr_sort.index[-1]\n",
    "gene2"
   ]
  },
  {
   "cell_type": "code",
   "execution_count": 15,
   "metadata": {
    "collapsed": true
   },
   "outputs": [],
   "source": [
    "x2 = rna[gene2]\n",
    "y2 = phe['days_to_bcr']"
   ]
  },
  {
   "cell_type": "code",
   "execution_count": null,
   "metadata": {
    "collapsed": true
   },
   "outputs": [],
   "source": []
  },
  {
   "cell_type": "code",
   "execution_count": 16,
   "metadata": {
    "collapsed": false
   },
   "outputs": [
    {
     "data": {
      "image/png": "[encoded data removed]",
      "text/plain": [
       "<matplotlib.figure.Figure at 0x7fb007d11630>"
      ]
     },
     "metadata": {},
     "output_type": "display_data"
    }
   ],
   "source": [
    "###\n",
    "import numpy as np\n",
    "\n",
    "plt.figure(figsize=(15,5))\n",
    "\n",
    "plt.subplot(1, 2, 1)\n",
    "plt.scatter(x=x1, y=y1, color='limegreen')\n",
    "plt.title(gene1)\n",
    "plt.xlabel('gene expression level')\n",
    "plt.ylabel('days_to_bcr')\n",
    "\n",
    "z1 = np.polyfit(x1, y1, 1)\n",
    "p1 = np.poly1d(z1)\n",
    "plt.plot(x1,p1(x1), 'b', color='red') # r--\n",
    "\n",
    "\n",
    "###\n",
    "plt.subplot(1, 2, 2)\n",
    "plt.scatter(x=x2, y=y2, color='dodgerblue')\n",
    "plt.title(gene2)\n",
    "plt.xlabel('gene expression level')\n",
    "plt.ylabel('days_to_bcr')\n",
    "\n",
    "\n",
    "z2 = np.polyfit(x2, y2, 1)\n",
    "p2 = np.poly1d(z2)\n",
    "plt.plot(x2,p2(x2), 'b', color='red')\n",
    "\n",
    "\n",
    "plt.show()"
   ]
  },
  {
   "cell_type": "code",
   "execution_count": null,
   "metadata": {
    "collapsed": true
   },
   "outputs": [],
   "source": []
  },
  {
   "cell_type": "code",
   "execution_count": 17,
   "metadata": {
    "collapsed": true
   },
   "outputs": [],
   "source": [
    "from sklearn.preprocessing import StandardScaler\n",
    "\n",
    "std = StandardScaler()\n",
    "rna_tr = std.fit_transform(rna)"
   ]
  },
  {
   "cell_type": "code",
   "execution_count": 18,
   "metadata": {
    "collapsed": false
   },
   "outputs": [
    {
     "data": {
      "text/plain": [
       "array([[-1.72124281,  0.53824588, -0.43303894, ...,  1.22456857,\n",
       "        -0.50826021,  0.79207431],\n",
       "       [ 0.8258381 , -0.08579797, -0.11711316, ...,  1.44787757,\n",
       "        -0.80096399, -0.56273034],\n",
       "       [ 1.21553711, -0.26101201,  0.499979  , ...,  0.45440059,\n",
       "        -1.12379087,  0.81266957],\n",
       "       ...,\n",
       "       [-0.77305374,  0.0920944 , -0.47403604, ..., -0.25767831,\n",
       "        -0.01699776,  0.68570403],\n",
       "       [-0.22785723,  1.08508359, -1.45869268, ...,  0.41294508,\n",
       "         0.81253186, -0.756053  ],\n",
       "       [ 1.36414828,  0.88963394,  1.26563264, ...,  0.17178612,\n",
       "        -0.78170291,  0.39505935]])"
      ]
     },
     "execution_count": 18,
     "metadata": {},
     "output_type": "execute_result"
    }
   ],
   "source": [
    "rna_tr"
   ]
  },
  {
   "cell_type": "code",
   "execution_count": null,
   "metadata": {
    "collapsed": true
   },
   "outputs": [],
   "source": []
  },
  {
   "cell_type": "code",
   "execution_count": 19,
   "metadata": {
    "collapsed": false
   },
   "outputs": [
    {
     "data": {
      "text/plain": [
       "TCGA-2A-A8W3-01    0.108493\n",
       "TCGA-CH-5788-01    0.430685\n",
       "TCGA-EJ-5504-01    0.042192\n",
       "TCGA-EJ-5508-01    1.000000\n",
       "TCGA-EJ-5510-01    1.000000\n",
       "TCGA-EJ-5514-01    1.000000\n",
       "TCGA-EJ-5515-01    1.000000\n",
       "TCGA-EJ-5516-01    1.000000\n",
       "TCGA-EJ-5517-01    1.000000\n",
       "TCGA-EJ-5518-01    1.000000\n",
       "TCGA-EJ-5519-01    0.046027\n",
       "TCGA-EJ-5521-01    1.000000\n",
       "TCGA-EJ-5522-01    1.000000\n",
       "TCGA-EJ-5524-01    0.632877\n",
       "TCGA-EJ-5525-01    0.185205\n",
       "TCGA-EJ-5526-01    0.294247\n",
       "TCGA-EJ-5530-01    1.000000\n",
       "TCGA-EJ-5532-01    1.000000\n",
       "TCGA-EJ-7115-01    1.000000\n",
       "TCGA-EJ-7123-01    1.000000\n",
       "TCGA-EJ-7125-01    1.000000\n",
       "TCGA-EJ-7218-01    1.000000\n",
       "TCGA-EJ-7318-01    0.103562\n",
       "TCGA-EJ-7331-01    0.103562\n",
       "TCGA-EJ-7783-01    0.044384\n",
       "TCGA-EJ-8468-01    1.000000\n",
       "TCGA-EJ-8469-01    1.000000\n",
       "TCGA-EJ-8472-01    0.107397\n",
       "TCGA-EJ-A46F-01    0.117808\n",
       "TCGA-EJ-A65F-01    0.041096\n",
       "                     ...   \n",
       "TCGA-VP-A878-01    0.053699\n",
       "TCGA-VP-A87B-01    1.000000\n",
       "TCGA-VP-A87D-01    0.654247\n",
       "TCGA-VP-A87E-01    1.000000\n",
       "TCGA-VP-A87K-01    0.255890\n",
       "TCGA-X4-A8KQ-01    0.483836\n",
       "TCGA-XJ-A9DX-01    0.082740\n",
       "TCGA-XK-AAJR-01    0.071781\n",
       "TCGA-YJ-A8SW-01    0.081096\n",
       "TCGA-YL-A8HK-01    0.753973\n",
       "TCGA-YL-A8HM-01    0.807123\n",
       "TCGA-YL-A8HO-01    0.585205\n",
       "TCGA-YL-A8S8-01    0.372055\n",
       "TCGA-YL-A8S9-01    1.000000\n",
       "TCGA-YL-A8SB-01    0.758356\n",
       "TCGA-YL-A8SC-01    0.083288\n",
       "TCGA-YL-A8SI-01    0.779726\n",
       "TCGA-YL-A8SJ-01    0.412055\n",
       "TCGA-YL-A8SO-01    1.000000\n",
       "TCGA-YL-A8SP-01    1.000000\n",
       "TCGA-YL-A8SQ-01    0.180274\n",
       "TCGA-YL-A9WJ-01    0.041644\n",
       "TCGA-YL-A9WK-01    0.552877\n",
       "TCGA-YL-A9WL-01    0.405479\n",
       "TCGA-YL-A9WX-01    0.825205\n",
       "TCGA-YL-A9WY-01    0.419178\n",
       "TCGA-ZG-A9L2-01    0.098630\n",
       "TCGA-ZG-A9L6-01    0.363836\n",
       "TCGA-ZG-A9L9-01    0.027945\n",
       "TCGA-ZG-A9LZ-01    0.169863\n",
       "Name: days_to_bcr, dtype: float64"
      ]
     },
     "execution_count": 19,
     "metadata": {},
     "output_type": "execute_result"
    }
   ],
   "source": [
    "days_to_bcr = phe['days_to_bcr'].copy()\n",
    "days_to_bcr"
   ]
  },
  {
   "cell_type": "code",
   "execution_count": null,
   "metadata": {
    "collapsed": true
   },
   "outputs": [],
   "source": []
  },
  {
   "cell_type": "code",
   "execution_count": 33,
   "metadata": {
    "collapsed": false
   },
   "outputs": [
    {
     "data": {
      "text/plain": [
       "DecisionTreeRegressor(criterion='mse', max_depth=None, max_features=None,\n",
       "           max_leaf_nodes=None, min_samples_leaf=1, min_samples_split=2,\n",
       "           min_weight_fraction_leaf=0.0, presort=False, random_state=None,\n",
       "           splitter='best')"
      ]
     },
     "execution_count": 33,
     "metadata": {},
     "output_type": "execute_result"
    }
   ],
   "source": [
    "from sklearn.linear_model import LinearRegression\n",
    "from sklearn.tree import DecisionTreeRegressor\n",
    "\n",
    "#lin_reg = LinearRegression()\n",
    "lin_reg = DecisionTreeRegressor()\n",
    "\n",
    "\n",
    "lin_reg.fit(rna_tr[0:152], days_to_bcr[0:152])"
   ]
  },
  {
   "cell_type": "code",
   "execution_count": 34,
   "metadata": {
    "collapsed": false
   },
   "outputs": [
    {
     "name": "stderr",
     "output_type": "stream",
     "text": [
      "/home/ruidong/Tools/anaconda3/lib/python3.5/site-packages/sklearn/utils/validation.py:386: DeprecationWarning: Passing 1d arrays as data is deprecated in 0.17 and willraise ValueError in 0.19. Reshape your data either using X.reshape(-1, 1) if your data has a single feature or X.reshape(1, -1) if it contains a single sample.\n",
      "  DeprecationWarning)\n"
     ]
    },
    {
     "data": {
      "text/plain": [
       "array([0.04219178])"
      ]
     },
     "execution_count": 34,
     "metadata": {},
     "output_type": "execute_result"
    }
   ],
   "source": [
    "lin_reg.predict(rna_tr[152])"
   ]
  },
  {
   "cell_type": "code",
   "execution_count": 35,
   "metadata": {
    "collapsed": false
   },
   "outputs": [
    {
     "data": {
      "text/plain": [
       "0.16986301369863"
      ]
     },
     "execution_count": 35,
     "metadata": {},
     "output_type": "execute_result"
    }
   ],
   "source": [
    "days_to_bcr[152]"
   ]
  },
  {
   "cell_type": "code",
   "execution_count": 32,
   "metadata": {
    "collapsed": false
   },
   "outputs": [
    {
     "data": {
      "text/plain": [
       "array([ 1.36414828,  0.88963394,  1.26563264, ...,  0.17178612,\n",
       "       -0.78170291,  0.39505935])"
      ]
     },
     "execution_count": 32,
     "metadata": {},
     "output_type": "execute_result"
    }
   ],
   "source": [
    "rna_tr[152]"
   ]
  },
  {
   "cell_type": "code",
   "execution_count": null,
   "metadata": {
    "collapsed": true
   },
   "outputs": [],
   "source": []
  },
  {
   "cell_type": "code",
   "execution_count": 23,
   "metadata": {
    "collapsed": false
   },
   "outputs": [
    {
     "data": {
      "text/plain": [
       "array([ 0.8258381 , -0.08579797, -0.11711316, ...,  1.44787757,\n",
       "       -0.80096399, -0.56273034])"
      ]
     },
     "execution_count": 23,
     "metadata": {},
     "output_type": "execute_result"
    }
   ],
   "source": [
    "rna_tr[1]"
   ]
  },
  {
   "cell_type": "code",
   "execution_count": 24,
   "metadata": {
    "collapsed": false
   },
   "outputs": [
    {
     "data": {
      "text/plain": [
       "(153, 15536)"
      ]
     },
     "execution_count": 24,
     "metadata": {},
     "output_type": "execute_result"
    }
   ],
   "source": [
    "rna_tr.shape"
   ]
  },
  {
   "cell_type": "code",
   "execution_count": null,
   "metadata": {
    "collapsed": true
   },
   "outputs": [],
   "source": []
  },
  {
   "cell_type": "code",
   "execution_count": null,
   "metadata": {
    "collapsed": true
   },
   "outputs": [],
   "source": []
  },
  {
   "cell_type": "code",
   "execution_count": null,
   "metadata": {
    "collapsed": true
   },
   "outputs": [],
   "source": []
  },
  {
   "cell_type": "code",
   "execution_count": null,
   "metadata": {
    "collapsed": true
   },
   "outputs": [],
   "source": []
  },
  {
   "cell_type": "code",
   "execution_count": null,
   "metadata": {
    "collapsed": true
   },
   "outputs": [],
   "source": [
    "import numpy as np\n",
    "\n",
    "def split_train_test(data, test_ratio):\n",
    "    shuffled_indices = np.random.permutation(len(data))\n",
    "    test_set_size = int(len(data)*test_ratio)\n",
    "    test_indices = shuffled_indices[:test_set_size]\n",
    "    train_indices = shuffled_indices[test_set_size:]\n",
    "    \n",
    "    return (data.iloc[train_indices], data.iloc[test_indices])"
   ]
  },
  {
   "cell_type": "code",
   "execution_count": null,
   "metadata": {
    "collapsed": true
   },
   "outputs": [],
   "source": []
  },
  {
   "cell_type": "code",
   "execution_count": 64,
   "metadata": {
    "collapsed": true
   },
   "outputs": [],
   "source": [
    "test_ratio = 1/3\n",
    "n_instances = len(rna)\n",
    "\n",
    "\n",
    "shuffled_indices = np.random.permutation(n_instances)\n",
    "test_set_size = int(n_instances*test_ratio)"
   ]
  },
  {
   "cell_type": "code",
   "execution_count": 65,
   "metadata": {
    "collapsed": false
   },
   "outputs": [
    {
     "data": {
      "text/plain": [
       "51"
      ]
     },
     "execution_count": 65,
     "metadata": {},
     "output_type": "execute_result"
    }
   ],
   "source": [
    "test_set_size"
   ]
  },
  {
   "cell_type": "code",
   "execution_count": 66,
   "metadata": {
    "collapsed": true
   },
   "outputs": [],
   "source": [
    "test_indices = shuffled_indices[:test_set_size]\n",
    "train_indices = shuffled_indices[test_set_size:]"
   ]
  },
  {
   "cell_type": "code",
   "execution_count": null,
   "metadata": {
    "collapsed": true
   },
   "outputs": [],
   "source": []
  },
  {
   "cell_type": "code",
   "execution_count": 67,
   "metadata": {
    "collapsed": true
   },
   "outputs": [],
   "source": [
    "train_rna = rna.iloc[train_indices]\n",
    "test_rna = rna.iloc[test_indices]"
   ]
  },
  {
   "cell_type": "code",
   "execution_count": 68,
   "metadata": {
    "collapsed": false
   },
   "outputs": [
    {
     "data": {
      "text/plain": [
       "(102, 15536)"
      ]
     },
     "execution_count": 68,
     "metadata": {},
     "output_type": "execute_result"
    }
   ],
   "source": [
    "train_rna.shape"
   ]
  },
  {
   "cell_type": "code",
   "execution_count": 57,
   "metadata": {
    "collapsed": false
   },
   "outputs": [],
   "source": []
  },
  {
   "cell_type": "code",
   "execution_count": 69,
   "metadata": {
    "collapsed": false
   },
   "outputs": [],
   "source": [
    "train_phe = phe.iloc[train_indices]\n",
    "test_phe = phe.iloc[test_indices]"
   ]
  },
  {
   "cell_type": "code",
   "execution_count": 70,
   "metadata": {
    "collapsed": false,
    "scrolled": true
   },
   "outputs": [
    {
     "data": {
      "text/html": [
       "<div>\n",
       "<table border=\"1\" class=\"dataframe\">\n",
       "  <thead>\n",
       "    <tr style=\"text-align: right;\">\n",
       "      <th></th>\n",
       "      <th>days_to_bcr</th>\n",
       "      <th>bcr_status</th>\n",
       "    </tr>\n",
       "  </thead>\n",
       "  <tbody>\n",
       "    <tr>\n",
       "      <th>TCGA-G9-6354-01</th>\n",
       "      <td>1.000000</td>\n",
       "      <td>1</td>\n",
       "    </tr>\n",
       "    <tr>\n",
       "      <th>TCGA-EJ-7318-01</th>\n",
       "      <td>0.103562</td>\n",
       "      <td>0</td>\n",
       "    </tr>\n",
       "    <tr>\n",
       "      <th>TCGA-EJ-A8FP-01</th>\n",
       "      <td>0.064110</td>\n",
       "      <td>0</td>\n",
       "    </tr>\n",
       "    <tr>\n",
       "      <th>TCGA-VP-A87B-01</th>\n",
       "      <td>1.000000</td>\n",
       "      <td>1</td>\n",
       "    </tr>\n",
       "    <tr>\n",
       "      <th>TCGA-HC-7212-01</th>\n",
       "      <td>0.216986</td>\n",
       "      <td>0</td>\n",
       "    </tr>\n",
       "    <tr>\n",
       "      <th>TCGA-ZG-A9L2-01</th>\n",
       "      <td>0.098630</td>\n",
       "      <td>0</td>\n",
       "    </tr>\n",
       "    <tr>\n",
       "      <th>TCGA-EJ-5516-01</th>\n",
       "      <td>1.000000</td>\n",
       "      <td>1</td>\n",
       "    </tr>\n",
       "    <tr>\n",
       "      <th>TCGA-VP-A875-01</th>\n",
       "      <td>1.000000</td>\n",
       "      <td>1</td>\n",
       "    </tr>\n",
       "    <tr>\n",
       "      <th>TCGA-HI-7171-01</th>\n",
       "      <td>0.119452</td>\n",
       "      <td>0</td>\n",
       "    </tr>\n",
       "    <tr>\n",
       "      <th>TCGA-KK-A8IK-01</th>\n",
       "      <td>1.000000</td>\n",
       "      <td>1</td>\n",
       "    </tr>\n",
       "    <tr>\n",
       "      <th>TCGA-HC-7821-01</th>\n",
       "      <td>0.520548</td>\n",
       "      <td>0</td>\n",
       "    </tr>\n",
       "    <tr>\n",
       "      <th>TCGA-V1-A8MU-01</th>\n",
       "      <td>0.105205</td>\n",
       "      <td>0</td>\n",
       "    </tr>\n",
       "    <tr>\n",
       "      <th>TCGA-YL-A8HM-01</th>\n",
       "      <td>0.807123</td>\n",
       "      <td>0</td>\n",
       "    </tr>\n",
       "    <tr>\n",
       "      <th>TCGA-G9-6347-01</th>\n",
       "      <td>1.000000</td>\n",
       "      <td>1</td>\n",
       "    </tr>\n",
       "    <tr>\n",
       "      <th>TCGA-YL-A8SI-01</th>\n",
       "      <td>0.779726</td>\n",
       "      <td>0</td>\n",
       "    </tr>\n",
       "    <tr>\n",
       "      <th>TCGA-EJ-A65F-01</th>\n",
       "      <td>0.041096</td>\n",
       "      <td>0</td>\n",
       "    </tr>\n",
       "    <tr>\n",
       "      <th>TCGA-VP-A878-01</th>\n",
       "      <td>0.053699</td>\n",
       "      <td>0</td>\n",
       "    </tr>\n",
       "    <tr>\n",
       "      <th>TCGA-EJ-7331-01</th>\n",
       "      <td>0.103562</td>\n",
       "      <td>0</td>\n",
       "    </tr>\n",
       "    <tr>\n",
       "      <th>TCGA-G9-A9S0-01</th>\n",
       "      <td>0.235068</td>\n",
       "      <td>0</td>\n",
       "    </tr>\n",
       "    <tr>\n",
       "      <th>TCGA-XJ-A9DX-01</th>\n",
       "      <td>0.082740</td>\n",
       "      <td>0</td>\n",
       "    </tr>\n",
       "    <tr>\n",
       "      <th>TCGA-VP-A87E-01</th>\n",
       "      <td>1.000000</td>\n",
       "      <td>1</td>\n",
       "    </tr>\n",
       "    <tr>\n",
       "      <th>TCGA-KK-A7AU-01</th>\n",
       "      <td>0.113425</td>\n",
       "      <td>0</td>\n",
       "    </tr>\n",
       "    <tr>\n",
       "      <th>TCGA-EJ-5504-01</th>\n",
       "      <td>0.042192</td>\n",
       "      <td>0</td>\n",
       "    </tr>\n",
       "    <tr>\n",
       "      <th>TCGA-HC-7077-01</th>\n",
       "      <td>1.000000</td>\n",
       "      <td>1</td>\n",
       "    </tr>\n",
       "    <tr>\n",
       "      <th>TCGA-YL-A9WJ-01</th>\n",
       "      <td>0.041644</td>\n",
       "      <td>0</td>\n",
       "    </tr>\n",
       "    <tr>\n",
       "      <th>TCGA-YL-A9WY-01</th>\n",
       "      <td>0.419178</td>\n",
       "      <td>0</td>\n",
       "    </tr>\n",
       "    <tr>\n",
       "      <th>TCGA-KK-A8IF-01</th>\n",
       "      <td>0.355068</td>\n",
       "      <td>0</td>\n",
       "    </tr>\n",
       "    <tr>\n",
       "      <th>TCGA-G9-6366-01</th>\n",
       "      <td>1.000000</td>\n",
       "      <td>1</td>\n",
       "    </tr>\n",
       "    <tr>\n",
       "      <th>TCGA-KK-A7B0-01</th>\n",
       "      <td>0.332055</td>\n",
       "      <td>0</td>\n",
       "    </tr>\n",
       "    <tr>\n",
       "      <th>TCGA-V1-A8WL-01</th>\n",
       "      <td>1.000000</td>\n",
       "      <td>1</td>\n",
       "    </tr>\n",
       "    <tr>\n",
       "      <th>...</th>\n",
       "      <td>...</td>\n",
       "      <td>...</td>\n",
       "    </tr>\n",
       "    <tr>\n",
       "      <th>TCGA-V1-A8WW-01</th>\n",
       "      <td>0.031781</td>\n",
       "      <td>0</td>\n",
       "    </tr>\n",
       "    <tr>\n",
       "      <th>TCGA-EJ-5525-01</th>\n",
       "      <td>0.185205</td>\n",
       "      <td>0</td>\n",
       "    </tr>\n",
       "    <tr>\n",
       "      <th>TCGA-KK-A7B2-01</th>\n",
       "      <td>0.379178</td>\n",
       "      <td>0</td>\n",
       "    </tr>\n",
       "    <tr>\n",
       "      <th>TCGA-YL-A8SB-01</th>\n",
       "      <td>0.758356</td>\n",
       "      <td>0</td>\n",
       "    </tr>\n",
       "    <tr>\n",
       "      <th>TCGA-YL-A8SC-01</th>\n",
       "      <td>0.083288</td>\n",
       "      <td>0</td>\n",
       "    </tr>\n",
       "    <tr>\n",
       "      <th>TCGA-KK-A8I5-01</th>\n",
       "      <td>1.000000</td>\n",
       "      <td>1</td>\n",
       "    </tr>\n",
       "    <tr>\n",
       "      <th>TCGA-QU-A6IO-01</th>\n",
       "      <td>1.000000</td>\n",
       "      <td>1</td>\n",
       "    </tr>\n",
       "    <tr>\n",
       "      <th>TCGA-ZG-A9L9-01</th>\n",
       "      <td>0.027945</td>\n",
       "      <td>0</td>\n",
       "    </tr>\n",
       "    <tr>\n",
       "      <th>TCGA-YL-A8HO-01</th>\n",
       "      <td>0.585205</td>\n",
       "      <td>0</td>\n",
       "    </tr>\n",
       "    <tr>\n",
       "      <th>TCGA-KK-A6E0-01</th>\n",
       "      <td>0.515616</td>\n",
       "      <td>0</td>\n",
       "    </tr>\n",
       "    <tr>\n",
       "      <th>TCGA-EJ-5522-01</th>\n",
       "      <td>1.000000</td>\n",
       "      <td>1</td>\n",
       "    </tr>\n",
       "    <tr>\n",
       "      <th>TCGA-VP-A876-01</th>\n",
       "      <td>1.000000</td>\n",
       "      <td>1</td>\n",
       "    </tr>\n",
       "    <tr>\n",
       "      <th>TCGA-EJ-5517-01</th>\n",
       "      <td>1.000000</td>\n",
       "      <td>1</td>\n",
       "    </tr>\n",
       "    <tr>\n",
       "      <th>TCGA-V1-A9OH-01</th>\n",
       "      <td>1.000000</td>\n",
       "      <td>1</td>\n",
       "    </tr>\n",
       "    <tr>\n",
       "      <th>TCGA-M7-A722-01</th>\n",
       "      <td>0.306301</td>\n",
       "      <td>0</td>\n",
       "    </tr>\n",
       "    <tr>\n",
       "      <th>TCGA-EJ-7783-01</th>\n",
       "      <td>0.044384</td>\n",
       "      <td>0</td>\n",
       "    </tr>\n",
       "    <tr>\n",
       "      <th>TCGA-KK-A6E1-01</th>\n",
       "      <td>1.000000</td>\n",
       "      <td>1</td>\n",
       "    </tr>\n",
       "    <tr>\n",
       "      <th>TCGA-VP-A872-01</th>\n",
       "      <td>1.000000</td>\n",
       "      <td>1</td>\n",
       "    </tr>\n",
       "    <tr>\n",
       "      <th>TCGA-ZG-A9LZ-01</th>\n",
       "      <td>0.169863</td>\n",
       "      <td>0</td>\n",
       "    </tr>\n",
       "    <tr>\n",
       "      <th>TCGA-EJ-5514-01</th>\n",
       "      <td>1.000000</td>\n",
       "      <td>1</td>\n",
       "    </tr>\n",
       "    <tr>\n",
       "      <th>TCGA-J4-A67S-01</th>\n",
       "      <td>0.387945</td>\n",
       "      <td>0</td>\n",
       "    </tr>\n",
       "    <tr>\n",
       "      <th>TCGA-YL-A8SJ-01</th>\n",
       "      <td>0.412055</td>\n",
       "      <td>0</td>\n",
       "    </tr>\n",
       "    <tr>\n",
       "      <th>TCGA-EJ-5532-01</th>\n",
       "      <td>1.000000</td>\n",
       "      <td>1</td>\n",
       "    </tr>\n",
       "    <tr>\n",
       "      <th>TCGA-KK-A6E7-01</th>\n",
       "      <td>0.506849</td>\n",
       "      <td>0</td>\n",
       "    </tr>\n",
       "    <tr>\n",
       "      <th>TCGA-G9-6498-01</th>\n",
       "      <td>0.735342</td>\n",
       "      <td>0</td>\n",
       "    </tr>\n",
       "    <tr>\n",
       "      <th>TCGA-KK-A8I7-01</th>\n",
       "      <td>0.596164</td>\n",
       "      <td>0</td>\n",
       "    </tr>\n",
       "    <tr>\n",
       "      <th>TCGA-EJ-7123-01</th>\n",
       "      <td>1.000000</td>\n",
       "      <td>1</td>\n",
       "    </tr>\n",
       "    <tr>\n",
       "      <th>TCGA-HI-7169-01</th>\n",
       "      <td>1.000000</td>\n",
       "      <td>1</td>\n",
       "    </tr>\n",
       "    <tr>\n",
       "      <th>TCGA-KK-A7B3-01</th>\n",
       "      <td>0.161096</td>\n",
       "      <td>0</td>\n",
       "    </tr>\n",
       "    <tr>\n",
       "      <th>TCGA-V1-A8MM-01</th>\n",
       "      <td>0.542466</td>\n",
       "      <td>0</td>\n",
       "    </tr>\n",
       "  </tbody>\n",
       "</table>\n",
       "<p>102 rows × 2 columns</p>\n",
       "</div>"
      ],
      "text/plain": [
       "                 days_to_bcr  bcr_status\n",
       "TCGA-G9-6354-01     1.000000           1\n",
       "TCGA-EJ-7318-01     0.103562           0\n",
       "TCGA-EJ-A8FP-01     0.064110           0\n",
       "TCGA-VP-A87B-01     1.000000           1\n",
       "TCGA-HC-7212-01     0.216986           0\n",
       "TCGA-ZG-A9L2-01     0.098630           0\n",
       "TCGA-EJ-5516-01     1.000000           1\n",
       "TCGA-VP-A875-01     1.000000           1\n",
       "TCGA-HI-7171-01     0.119452           0\n",
       "TCGA-KK-A8IK-01     1.000000           1\n",
       "TCGA-HC-7821-01     0.520548           0\n",
       "TCGA-V1-A8MU-01     0.105205           0\n",
       "TCGA-YL-A8HM-01     0.807123           0\n",
       "TCGA-G9-6347-01     1.000000           1\n",
       "TCGA-YL-A8SI-01     0.779726           0\n",
       "TCGA-EJ-A65F-01     0.041096           0\n",
       "TCGA-VP-A878-01     0.053699           0\n",
       "TCGA-EJ-7331-01     0.103562           0\n",
       "TCGA-G9-A9S0-01     0.235068           0\n",
       "TCGA-XJ-A9DX-01     0.082740           0\n",
       "TCGA-VP-A87E-01     1.000000           1\n",
       "TCGA-KK-A7AU-01     0.113425           0\n",
       "TCGA-EJ-5504-01     0.042192           0\n",
       "TCGA-HC-7077-01     1.000000           1\n",
       "TCGA-YL-A9WJ-01     0.041644           0\n",
       "TCGA-YL-A9WY-01     0.419178           0\n",
       "TCGA-KK-A8IF-01     0.355068           0\n",
       "TCGA-G9-6366-01     1.000000           1\n",
       "TCGA-KK-A7B0-01     0.332055           0\n",
       "TCGA-V1-A8WL-01     1.000000           1\n",
       "...                      ...         ...\n",
       "TCGA-V1-A8WW-01     0.031781           0\n",
       "TCGA-EJ-5525-01     0.185205           0\n",
       "TCGA-KK-A7B2-01     0.379178           0\n",
       "TCGA-YL-A8SB-01     0.758356           0\n",
       "TCGA-YL-A8SC-01     0.083288           0\n",
       "TCGA-KK-A8I5-01     1.000000           1\n",
       "TCGA-QU-A6IO-01     1.000000           1\n",
       "TCGA-ZG-A9L9-01     0.027945           0\n",
       "TCGA-YL-A8HO-01     0.585205           0\n",
       "TCGA-KK-A6E0-01     0.515616           0\n",
       "TCGA-EJ-5522-01     1.000000           1\n",
       "TCGA-VP-A876-01     1.000000           1\n",
       "TCGA-EJ-5517-01     1.000000           1\n",
       "TCGA-V1-A9OH-01     1.000000           1\n",
       "TCGA-M7-A722-01     0.306301           0\n",
       "TCGA-EJ-7783-01     0.044384           0\n",
       "TCGA-KK-A6E1-01     1.000000           1\n",
       "TCGA-VP-A872-01     1.000000           1\n",
       "TCGA-ZG-A9LZ-01     0.169863           0\n",
       "TCGA-EJ-5514-01     1.000000           1\n",
       "TCGA-J4-A67S-01     0.387945           0\n",
       "TCGA-YL-A8SJ-01     0.412055           0\n",
       "TCGA-EJ-5532-01     1.000000           1\n",
       "TCGA-KK-A6E7-01     0.506849           0\n",
       "TCGA-G9-6498-01     0.735342           0\n",
       "TCGA-KK-A8I7-01     0.596164           0\n",
       "TCGA-EJ-7123-01     1.000000           1\n",
       "TCGA-HI-7169-01     1.000000           1\n",
       "TCGA-KK-A7B3-01     0.161096           0\n",
       "TCGA-V1-A8MM-01     0.542466           0\n",
       "\n",
       "[102 rows x 2 columns]"
      ]
     },
     "execution_count": 70,
     "metadata": {},
     "output_type": "execute_result"
    }
   ],
   "source": [
    "train_phe"
   ]
  },
  {
   "cell_type": "code",
   "execution_count": null,
   "metadata": {
    "collapsed": true
   },
   "outputs": [],
   "source": []
  },
  {
   "cell_type": "code",
   "execution_count": 77,
   "metadata": {
    "collapsed": false
   },
   "outputs": [
    {
     "data": {
      "text/plain": [
       "pandas.core.series.Series"
      ]
     },
     "execution_count": 77,
     "metadata": {},
     "output_type": "execute_result"
    }
   ],
   "source": []
  },
  {
   "cell_type": "code",
   "execution_count": null,
   "metadata": {
    "collapsed": true
   },
   "outputs": [],
   "source": []
  }
 ],
 "metadata": {
  "kernelspec": {
   "display_name": "Python [Root]",
   "language": "python",
   "name": "Python [Root]"
  },
  "language_info": {
   "codemirror_mode": {
    "name": "ipython",
    "version": 3
   },
   "file_extension": ".py",
   "mimetype": "text/x-python",
   "name": "python",
   "nbconvert_exporter": "python",
   "pygments_lexer": "ipython3",
   "version": "3.5.2"
  }
 },
 "nbformat": 4,
 "nbformat_minor": 0
}
